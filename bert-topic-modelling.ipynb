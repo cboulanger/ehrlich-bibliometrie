{
 "cells": [
  {
   "cell_type": "code",
   "execution_count": null,
   "metadata": {
    "ExecuteTime": {
     "end_time": "2023-04-04T22:30:11.648016Z",
     "start_time": "2023-04-04T22:29:53.641796Z"
    },
    "collapsed": true
   },
   "outputs": [],
   "source": [
    "!pip install bertopic\n",
    "!python --version"
   ]
  },
  {
   "cell_type": "code",
   "execution_count": 1,
   "metadata": {
    "ExecuteTime": {
     "start_time": "2023-04-06T15:17:53.369623Z",
     "end_time": "2023-04-06T15:18:32.133641Z"
    }
   },
   "outputs": [
    {
     "name": "stderr",
     "output_type": "stream",
     "text": [
      "[nltk_data] Downloading package punkt to\n",
      "[nltk_data]     C:\\Users\\Boulanger\\AppData\\Roaming\\nltk_data...\n",
      "[nltk_data]   Package punkt is already up-to-date!\n",
      "[nltk_data] Downloading package stopwords to\n",
      "[nltk_data]     C:\\Users\\Boulanger\\AppData\\Roaming\\nltk_data...\n",
      "[nltk_data]   Package stopwords is already up-to-date!\n"
     ]
    }
   ],
   "source": [
    "import os\n",
    "from bertopic import BERTopic\n",
    "from tqdm import tqdm\n",
    "import pandas as pd\n",
    "import nltk\n",
    "nltk.download('punkt')\n",
    "nltk.download('stopwords')\n",
    "from nltk.corpus import stopwords\n",
    "from nltk.tokenize import word_tokenize\n",
    "from datetime import datetime"
   ]
  },
  {
   "cell_type": "code",
   "execution_count": 3,
   "outputs": [],
   "source": [
    "base_dir = \"C:/Users/Boulanger/ownCloud/Langfristvorhaben/Legal-Theory-Graph/Data\"\n",
    "corpus_dir = os.path.join(base_dir, \"FULLTEXTS/JLS/jls-txt\")\n",
    "d2y = pd.read_csv('jls-doi-to-year.csv')\n",
    "stopwords=set(stopwords.words('english'))"
   ],
   "metadata": {
    "collapsed": false,
    "ExecuteTime": {
     "start_time": "2023-04-06T15:20:04.613649Z",
     "end_time": "2023-04-06T15:20:04.690220Z"
    }
   }
  },
  {
   "cell_type": "code",
   "execution_count": 18,
   "outputs": [
    {
     "name": "stderr",
     "output_type": "stream",
     "text": [
      "100%|██████████| 1651/1651 [00:05<00:00, 280.61it/s]"
     ]
    },
    {
     "name": "stdout",
     "output_type": "stream",
     "text": [
      "Corpus has 1136 articles from 1974 to 2021. Date information is missing for  514 articles.\n"
     ]
    },
    {
     "name": "stderr",
     "output_type": "stream",
     "text": [
      "\n"
     ]
    }
   ],
   "source": [
    "# Load the articles\n",
    "articles = []\n",
    "timestamps = []\n",
    "not_found = []\n",
    "for filename in tqdm(os.listdir(corpus_dir)):\n",
    "    if filename.endswith(\".txt\"):\n",
    "        with open(os.path.join(corpus_dir, filename), \"r\", encoding=\"utf-8\") as f:\n",
    "            article = f.read()\n",
    "            tmp_article = []\n",
    "            doi = filename.strip(\".txt\").replace(\"_\",\"/\")\n",
    "            year = d2y.loc[d2y['DOI'] == doi, 'year']\n",
    "            # only use articles for which we have a year\n",
    "            if not year.empty:\n",
    "                timestamp = datetime.strptime(str(year.values[0]), '%Y').date()\n",
    "                timestamps.append(timestamp)\n",
    "                for word in str(article).split():\n",
    "                    if word.lower() not in stopwords:\n",
    "                        tmp_article.append(word)\n",
    "                articles.append(' '.join(tmp_article))\n",
    "            else:\n",
    "                not_found.append(doi)\n",
    "\n",
    "earliest_year = min(timestamps).strftime('%Y')\n",
    "latest_year = max(timestamps).strftime('%Y')\n",
    "\n",
    "print(f\"Corpus has {len(articles)} articles from {earliest_year} to {latest_year}. Date information is missing for {len(not_found)} articles.\")"
   ],
   "metadata": {
    "collapsed": false,
    "ExecuteTime": {
     "start_time": "2023-04-06T15:42:48.186086Z",
     "end_time": "2023-04-06T15:42:54.139146Z"
    }
   }
  },
  {
   "cell_type": "code",
   "execution_count": 16,
   "metadata": {
    "ExecuteTime": {
     "end_time": "2023-04-05T09:10:48.908307Z",
     "start_time": "2023-04-05T09:10:48.877721Z"
    }
   },
   "outputs": [],
   "source": [
    "# topics for semi-supervised training\n",
    "import yaml\n",
    "data_dir = os.path.join(base_dir, \"APPDATA/R/analyses/jls\")\n",
    "with open(os.path.join(data_dir, \"topics.yml\")) as f:\n",
    "    topics = yaml.safe_load(f)\n",
    "\n",
    "topics = list(topics.keys())"
   ]
  },
  {
   "cell_type": "code",
   "execution_count": 20,
   "metadata": {
    "ExecuteTime": {
     "start_time": "2023-04-06T15:44:23.927369Z",
     "end_time": "2023-04-06T15:47:14.740007Z"
    }
   },
   "outputs": [
    {
     "data": {
      "text/plain": "Batches:   0%|          | 0/36 [00:00<?, ?it/s]",
      "application/vnd.jupyter.widget-view+json": {
       "version_major": 2,
       "version_minor": 0,
       "model_id": "7be4c10411b24dc492bc58e075690375"
      }
     },
     "metadata": {},
     "output_type": "display_data"
    },
    {
     "name": "stderr",
     "output_type": "stream",
     "text": [
      "2023-04-06 15:46:10,198 - BERTopic - Transformed documents to Embeddings\n",
      "2023-04-06 15:46:13,330 - BERTopic - Reduced dimensionality\n",
      "2023-04-06 15:46:13,364 - BERTopic - Clustered reduced embeddings\n",
      "37it [00:48,  1.31s/it]\n"
     ]
    }
   ],
   "source": [
    "model = BERTopic(verbose=True)\n",
    "topics, probs = model.fit_transform(articles)\n",
    "topics_over_time = model.topics_over_time(articles, timestamps)"
   ]
  },
  {
   "cell_type": "code",
   "execution_count": 21,
   "metadata": {
    "ExecuteTime": {
     "start_time": "2023-04-06T15:47:29.298597Z",
     "end_time": "2023-04-06T15:47:29.345637Z"
    }
   },
   "outputs": [
    {
     "data": {
      "text/plain": "    Topic  Count                                          Name\n0      -1    372                       -1_law_legal_social_see\n1       0    103                  0_law_legal_sociology_social\n2       1     81                1_police_court_criminal_guilty\n3       2     58              2_family_children_child_marriage\n4       3     48                3_law_education_legal_students\n5       4     47                   4_women_feminist_gender_law\n6       5     46                   5_aid_legal_social_services\n7       6     43     6_law_constitutional_global_transnational\n8       7     31            7_ireland_northern_irish_political\n9       8     26                   8_rights_human_right_social\n10      9     26               9_government_local_state_public\n11     10     26               10_rape_sexual_justice_violence\n12     11     25               11_housing_local_act_travellers\n13     12     24                 12_jstor_conditions_terms_use\n14     13     22  13_environmental_water_pollution_environment\n15     14     19             14_contract_contracts_law_parties\n16     15     18     15_corporate_directors_company_governance\n17     16     17             16_employment_labour_workers_work\n18     17     16            17_medical_doctors_health_patients\n19     18     15          18_safety_health_asbestos_inspectors\n20     19     14                  19_police_miners_strike_coal\n21     20     13             20_mental_patients_patient_health\n22     21     13                       21_law_2019_policy_drug\n23     22     12                 22_film_films_courtroom_trial\n24     23     11                       23_marx_law_class_state\n25     24     10    24_regulatory_gaming_regulation_compliance",
      "text/html": "<div>\n<style scoped>\n    .dataframe tbody tr th:only-of-type {\n        vertical-align: middle;\n    }\n\n    .dataframe tbody tr th {\n        vertical-align: top;\n    }\n\n    .dataframe thead th {\n        text-align: right;\n    }\n</style>\n<table border=\"1\" class=\"dataframe\">\n  <thead>\n    <tr style=\"text-align: right;\">\n      <th></th>\n      <th>Topic</th>\n      <th>Count</th>\n      <th>Name</th>\n    </tr>\n  </thead>\n  <tbody>\n    <tr>\n      <th>0</th>\n      <td>-1</td>\n      <td>372</td>\n      <td>-1_law_legal_social_see</td>\n    </tr>\n    <tr>\n      <th>1</th>\n      <td>0</td>\n      <td>103</td>\n      <td>0_law_legal_sociology_social</td>\n    </tr>\n    <tr>\n      <th>2</th>\n      <td>1</td>\n      <td>81</td>\n      <td>1_police_court_criminal_guilty</td>\n    </tr>\n    <tr>\n      <th>3</th>\n      <td>2</td>\n      <td>58</td>\n      <td>2_family_children_child_marriage</td>\n    </tr>\n    <tr>\n      <th>4</th>\n      <td>3</td>\n      <td>48</td>\n      <td>3_law_education_legal_students</td>\n    </tr>\n    <tr>\n      <th>5</th>\n      <td>4</td>\n      <td>47</td>\n      <td>4_women_feminist_gender_law</td>\n    </tr>\n    <tr>\n      <th>6</th>\n      <td>5</td>\n      <td>46</td>\n      <td>5_aid_legal_social_services</td>\n    </tr>\n    <tr>\n      <th>7</th>\n      <td>6</td>\n      <td>43</td>\n      <td>6_law_constitutional_global_transnational</td>\n    </tr>\n    <tr>\n      <th>8</th>\n      <td>7</td>\n      <td>31</td>\n      <td>7_ireland_northern_irish_political</td>\n    </tr>\n    <tr>\n      <th>9</th>\n      <td>8</td>\n      <td>26</td>\n      <td>8_rights_human_right_social</td>\n    </tr>\n    <tr>\n      <th>10</th>\n      <td>9</td>\n      <td>26</td>\n      <td>9_government_local_state_public</td>\n    </tr>\n    <tr>\n      <th>11</th>\n      <td>10</td>\n      <td>26</td>\n      <td>10_rape_sexual_justice_violence</td>\n    </tr>\n    <tr>\n      <th>12</th>\n      <td>11</td>\n      <td>25</td>\n      <td>11_housing_local_act_travellers</td>\n    </tr>\n    <tr>\n      <th>13</th>\n      <td>12</td>\n      <td>24</td>\n      <td>12_jstor_conditions_terms_use</td>\n    </tr>\n    <tr>\n      <th>14</th>\n      <td>13</td>\n      <td>22</td>\n      <td>13_environmental_water_pollution_environment</td>\n    </tr>\n    <tr>\n      <th>15</th>\n      <td>14</td>\n      <td>19</td>\n      <td>14_contract_contracts_law_parties</td>\n    </tr>\n    <tr>\n      <th>16</th>\n      <td>15</td>\n      <td>18</td>\n      <td>15_corporate_directors_company_governance</td>\n    </tr>\n    <tr>\n      <th>17</th>\n      <td>16</td>\n      <td>17</td>\n      <td>16_employment_labour_workers_work</td>\n    </tr>\n    <tr>\n      <th>18</th>\n      <td>17</td>\n      <td>16</td>\n      <td>17_medical_doctors_health_patients</td>\n    </tr>\n    <tr>\n      <th>19</th>\n      <td>18</td>\n      <td>15</td>\n      <td>18_safety_health_asbestos_inspectors</td>\n    </tr>\n    <tr>\n      <th>20</th>\n      <td>19</td>\n      <td>14</td>\n      <td>19_police_miners_strike_coal</td>\n    </tr>\n    <tr>\n      <th>21</th>\n      <td>20</td>\n      <td>13</td>\n      <td>20_mental_patients_patient_health</td>\n    </tr>\n    <tr>\n      <th>22</th>\n      <td>21</td>\n      <td>13</td>\n      <td>21_law_2019_policy_drug</td>\n    </tr>\n    <tr>\n      <th>23</th>\n      <td>22</td>\n      <td>12</td>\n      <td>22_film_films_courtroom_trial</td>\n    </tr>\n    <tr>\n      <th>24</th>\n      <td>23</td>\n      <td>11</td>\n      <td>23_marx_law_class_state</td>\n    </tr>\n    <tr>\n      <th>25</th>\n      <td>24</td>\n      <td>10</td>\n      <td>24_regulatory_gaming_regulation_compliance</td>\n    </tr>\n  </tbody>\n</table>\n</div>"
     },
     "execution_count": 21,
     "metadata": {},
     "output_type": "execute_result"
    }
   ],
   "source": [
    "model.get_topic_info()"
   ]
  },
  {
   "cell_type": "code",
   "execution_count": 28,
   "outputs": [],
   "source": [
    "fig = model.visualize_topics_over_time(topics_over_time)\n",
    "fig.write_html(\"topics-over-time.html\")"
   ],
   "metadata": {
    "collapsed": false,
    "ExecuteTime": {
     "start_time": "2023-04-06T17:18:22.615574Z",
     "end_time": "2023-04-06T17:18:22.813975Z"
    }
   }
  },
  {
   "cell_type": "code",
   "execution_count": 27,
   "outputs": [],
   "source": [
    "fig = model.visualize_documents(articles)\n",
    "fig.write_html(\"document-topics.html\")"
   ],
   "metadata": {
    "collapsed": false,
    "ExecuteTime": {
     "start_time": "2023-04-06T16:27:55.850383Z",
     "end_time": "2023-04-06T16:29:46.880902Z"
    }
   }
  },
  {
   "cell_type": "code",
   "execution_count": null,
   "outputs": [],
   "source": [],
   "metadata": {
    "collapsed": false
   }
  }
 ],
 "metadata": {
  "kernelspec": {
   "display_name": "Python 3 (ipykernel)",
   "language": "python",
   "name": "python3"
  },
  "language_info": {
   "codemirror_mode": {
    "name": "ipython",
    "version": 3
   },
   "file_extension": ".py",
   "mimetype": "text/x-python",
   "name": "python",
   "nbconvert_exporter": "python",
   "pygments_lexer": "ipython3",
   "version": "3.9.7"
  },
  "toc": {
   "base_numbering": 1,
   "nav_menu": {},
   "number_sections": true,
   "sideBar": true,
   "skip_h1_title": false,
   "title_cell": "Table of Contents",
   "title_sidebar": "Contents",
   "toc_cell": false,
   "toc_position": {},
   "toc_section_display": true,
   "toc_window_display": false
  }
 },
 "nbformat": 4,
 "nbformat_minor": 1
}
