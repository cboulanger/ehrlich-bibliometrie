{
 "cells": [
  {
   "cell_type": "markdown",
   "metadata": {},
   "source": [
    "**Eugen Ehrlich im Web of Science und in OpenAlex**\n",
    "\n",
    "This notebook ..."
   ]
  },
  {
   "cell_type": "markdown",
   "metadata": {},
   "source": [
    "# Preparation"
   ]
  },
  {
   "cell_type": "code",
   "execution_count": null,
   "metadata": {
    "ExecuteTime": {
     "end_time": "2023-06-01T08:43:50.457379Z",
     "start_time": "2023-06-01T08:43:50.341768Z"
    }
   },
   "outputs": [],
   "source": [
    "# Uncomment and run once\n",
    "# if you use vanilla python:\n",
    "#   !pip install py2neo python-dotenv pandas pyvis\n",
    "# OR if you use anaconda:\n",
    "#   !conda install -c conda-forge py2neo python-dotenv\n",
    "#   !conda install panda pyvis\n",
    "# for table of contents support, see https://github.com/ipython-contrib/jupyter_contrib_nbextensions"
   ]
  },
  {
   "cell_type": "markdown",
   "metadata": {},
   "source": [
    "Import the required libraries and setup needed objects:"
   ]
  },
  {
   "cell_type": "code",
   "execution_count": null,
   "metadata": {
    "ExecuteTime": {
     "end_time": "2023-06-03T15:15:41.067358Z",
     "start_time": "2023-06-03T15:15:41.020461Z"
    }
   },
   "outputs": [],
   "source": [
    "import os\n",
    "\n",
    "# config\n",
    "from dotenv import dotenv_values\n",
    "config = {**dotenv_values()}\n",
    "\n",
    "# https://py2neo.org/v4/\n",
    "from py2neo import Graph, Node, Relationship\n",
    "graph = Graph(config['NEO4J_URL'])\n",
    "\n",
    "# visualization\n",
    "from scripts.vis import draw, table\n",
    "\n",
    "# clean up visualization HTML dir\n"
   ]
  },
  {
   "cell_type": "markdown",
   "metadata": {},
   "source": [
    "# Web of Science\n",
    "\n",
    "KB -> Neo4J\n",
    "\n",
    "## Overview"
   ]
  },
  {
   "cell_type": "code",
   "execution_count": null,
   "metadata": {
    "ExecuteTime": {
     "end_time": "2023-06-01T08:43:50.525839Z",
     "start_time": "2023-06-01T08:43:50.441735Z"
    }
   },
   "outputs": [],
   "source": [
    "cypher = \"\"\"\n",
    "use `ehrlich-wos`\n",
    "match (a1:Author)-[r1:CREATOR_OF]->(w1:Work)<-[r2:CITES]-(w2:Work)<-[r3:CREATOR_OF]-(a2:Author)\n",
    "where a1.display_name = \"ehrlich, eugen\"\n",
    "return count(distinct w1) as works_cited,\n",
    "    count(distinct r2) as num_citations,\n",
    "    count(distinct w2) as citing_works,\n",
    "    count(distinct a2) as citing_authors\n",
    "\"\"\"\n",
    "graph.run(cypher).data()"
   ]
  },
  {
   "cell_type": "markdown",
   "metadata": {},
   "source": [
    "## Cited works"
   ]
  },
  {
   "cell_type": "code",
   "execution_count": null,
   "metadata": {
    "ExecuteTime": {
     "end_time": "2023-06-01T08:43:54.310560Z",
     "start_time": "2023-06-01T08:43:50.510221Z"
    }
   },
   "outputs": [],
   "source": [
    "cypher = \"\"\"\n",
    "use `ehrlich-wos`\n",
    "match (a1:Author)-[r1:CREATOR_OF]->(w1:Work)<-[r2:CITES]-(w2:Work)<-[r3:CREATOR_OF]-(a2:Author)\n",
    "where a1.display_name = \"ehrlich, eugen\"\n",
    "return distinct a1.display_name as author, w1.year as year, w1.title as title order by w1.year\n",
    "\"\"\"\n",
    "graph.run(cypher).to_data_frame()"
   ]
  },
  {
   "cell_type": "markdown",
   "metadata": {},
   "source": [
    "## Citing works"
   ]
  },
  {
   "cell_type": "code",
   "execution_count": null,
   "metadata": {
    "ExecuteTime": {
     "end_time": "2023-06-01T08:43:54.392871Z",
     "start_time": "2023-06-01T08:43:54.310560Z"
    }
   },
   "outputs": [],
   "source": [
    "cypher = \"\"\"\n",
    "use `ehrlich-wos`\n",
    "MATCH (a1:Author)-[:CREATOR_OF]->(w1:Work)<-[:CITES]-(w2:Work)<-[:CREATOR_OF]-(a2:Author)\n",
    "WHERE a1.display_name = \"ehrlich, eugen\"\n",
    "WITH w2, COLLECT(a2)[0] AS first_author\n",
    "RETURN first_author.display_name AS author, w2.year AS year, w2.title AS title\n",
    "ORDER BY w2.year\n",
    "\"\"\"\n",
    "graph.run(cypher).to_data_frame()"
   ]
  },
  {
   "cell_type": "markdown",
   "metadata": {},
   "source": [
    "# OpenAlex\n",
    "\n",
    "openalex.org -> neo4j\n",
    "\n",
    "## Overview"
   ]
  },
  {
   "cell_type": "code",
   "execution_count": null,
   "metadata": {
    "ExecuteTime": {
     "end_time": "2023-06-01T08:43:54.526098Z",
     "start_time": "2023-06-01T08:43:54.346453Z"
    }
   },
   "outputs": [],
   "source": [
    "cypher = \"\"\"\n",
    "use `ehrlich-openalex`\n",
    "match (a1:Author)-[r1:CREATOR_OF]->(w1:Work)<-[r2:CITES]-(w2:Work)<-[r3:CREATOR_OF]-(a2:Author)\n",
    "where a1.display_name = \"ehrlich, eugen\"\n",
    "return count(distinct w1) as works_cited,\n",
    "    count(distinct r2) as num_citations,\n",
    "    count(distinct w2) as citing_works,\n",
    "    count(distinct a2) as citing_authors\n",
    "\"\"\"\n",
    "graph.run(cypher).data()"
   ]
  },
  {
   "cell_type": "markdown",
   "metadata": {},
   "source": [
    "## Cited works\n",
    "### All years"
   ]
  },
  {
   "cell_type": "code",
   "execution_count": null,
   "metadata": {
    "ExecuteTime": {
     "end_time": "2023-06-01T08:43:54.559066Z",
     "start_time": "2023-06-01T08:43:54.377258Z"
    }
   },
   "outputs": [],
   "source": [
    "query = \"\"\"\n",
    "match (a1:Author)-[r1:CREATOR_OF]->(w1:Work)<-[r2:CITES]-(w2:Work)<-[r3:CREATOR_OF]-(a2:Author)\n",
    "match (w1)-[r4:PUBLISHED_IN]->(v1:Venue)\n",
    "where a1.display_name = \"ehrlich, eugen\"\n",
    "return distinct\n",
    "    a1.display_name as author,\n",
    "    w1.year as year,\n",
    "    w1.title as title,\n",
    "    v1.name as container,\n",
    "    count(r2) as citations\n",
    "order by citations desc\n",
    "\"\"\"\n",
    "graph = Graph(config['NEO4J_URL'], name=\"ehrlich-openalex\")\n",
    "graph.run(query).to_data_frame()"
   ]
  },
  {
   "cell_type": "markdown",
   "metadata": {},
   "source": [
    "### Cited works (1960-1989)"
   ]
  },
  {
   "cell_type": "code",
   "execution_count": null,
   "metadata": {
    "ExecuteTime": {
     "end_time": "2023-06-01T08:43:54.560073Z",
     "start_time": "2023-06-01T08:43:54.430228Z"
    }
   },
   "outputs": [],
   "source": [
    "query = \"\"\"\n",
    "match (a1:Author)-[r1:CREATOR_OF]->(w1:Work)<-[r2:CITES]-(w2:Work)<-[r3:CREATOR_OF]-(a2:Author)\n",
    "where a1.display_name = \"ehrlich, eugen\" and w2.year >= 1960 and w2.year <= 1990\n",
    "return distinct\n",
    "    a1.display_name as author,\n",
    "    w1.year as year,\n",
    "    w1.title as title,\n",
    "    count(r2) as citations\n",
    "order by citations desc\n",
    "\"\"\"\n",
    "graph = Graph(config['NEO4J_URL'], name=\"ehrlich-openalex\")\n",
    "graph.run(query).to_data_frame()"
   ]
  },
  {
   "cell_type": "markdown",
   "metadata": {},
   "source": [
    "### Graph: Cited works, over time\n",
    "\n",
    "OpenAlex seems not to distinguish between different editions of a work - e.g. ehrlich (1989) is cited even before publication. Also, book reviews are included (like the one by timasheff)."
   ]
  },
  {
   "cell_type": "code",
   "execution_count": 23,
   "metadata": {
    "ExecuteTime": {
     "start_time": "2023-06-07T14:42:41.802520Z",
     "end_time": "2023-06-07T14:42:42.576720Z"
    }
   },
   "outputs": [
    {
     "data": {
      "text/plain": "<Figure size 640x480 with 1 Axes>",
      "image/png": "[encoded data removed]"
     },
     "metadata": {},
     "output_type": "display_data"
    }
   ],
   "source": [
    "query = \"\"\"\n",
    "MATCH (citingWork:Work)-[r:CITES]->(citedWork:Work)<-[:CREATOR_OF]-(citedAuthor:Author)\n",
    "WHERE citedAuthor.display_name = \"ehrlich, eugen\"\n",
    "RETURN citedWork.display_name as work, citingWork.year as year, count(*) as citations\n",
    "ORDER BY year\n",
    "\"\"\"\n",
    "from scripts.n4j_plotlib import plot_year_citations\n",
    "from scripts.utils import get_graph\n",
    "graph = get_graph(\"ehrlich-openalex\")\n",
    "data = graph.run(query).data()\n",
    "plot_year_citations(data, dep_col='work', dep_label='Work')"
   ]
  },
  {
   "cell_type": "markdown",
   "source": [
    "### Percentage of cited works that were published before 1967"
   ],
   "metadata": {
    "collapsed": false
   }
  },
  {
   "cell_type": "code",
   "execution_count": 1,
   "outputs": [
    {
     "data": {
      "text/plain": "       percentage \n------------------\n 69.1747572815534 ",
      "text/html": "<table><tr><th>percentage</th></tr><tr><td style=\"text-align:right\">69.1747572815534</td></tr></table>"
     },
     "execution_count": 1,
     "metadata": {},
     "output_type": "execute_result"
    }
   ],
   "source": [
    "query = \"\"\"\n",
    "MATCH (citingWork:Work)-[r:CITES]->(citedWork:Work)<-[:CREATOR_OF]-(citedAuthor:Author)\n",
    "WHERE citedAuthor.display_name = \"ehrlich, eugen\"\n",
    "WITH COUNT(citedWork) AS totalWorks\n",
    "\n",
    "MATCH (citingWork:Work)-[r:CITES]->(citedWork:Work)<-[:CREATOR_OF]-(citedAuthor:Author)\n",
    "WHERE citedAuthor.display_name = \"ehrlich, eugen\" AND citedWork.year < 1967\n",
    "WITH COUNT(citedWork) AS before1967Works, totalWorks\n",
    "\n",
    "RETURN (toFloat(before1967Works) / totalWorks) * 100 AS percentage\n",
    "\"\"\"\n",
    "from scripts.utils import get_graph\n",
    "graph = get_graph(\"ehrlich-openalex\")\n",
    "graph.run(query).to_table()\n"
   ],
   "metadata": {
    "collapsed": false,
    "ExecuteTime": {
     "start_time": "2023-06-09T09:38:29.230367Z",
     "end_time": "2023-06-09T09:38:32.182038Z"
    }
   }
  },
  {
   "cell_type": "markdown",
   "metadata": {},
   "source": [
    "## Citing works\n",
    "### Citing works (1960-1989)"
   ]
  },
  {
   "cell_type": "code",
   "execution_count": null,
   "metadata": {
    "ExecuteTime": {
     "end_time": "2023-06-01T08:43:56.910145Z",
     "start_time": "2023-06-01T08:43:56.864163Z"
    }
   },
   "outputs": [],
   "source": [
    "cypher = \"\"\"\n",
    "MATCH (a1:Author)-[:CREATOR_OF]->(w1:Work)<-[:CITES]-(w2:Work)<-[:CREATOR_OF]-(a2:Author)\n",
    "WHERE a1.display_name = \"ehrlich, eugen\" and w2.year > 1967 and w2.year < 1990\n",
    "WITH w1, w2, COLLECT(a2)[0] AS first_author\n",
    "RETURN\n",
    "    first_author.display_name AS author,\n",
    "    w2.year AS year,\n",
    "    w2.title AS title,\n",
    "    w1.title as cited_work\n",
    "ORDER BY w2.year\n",
    "\"\"\"\n",
    "graph = Graph(config['NEO4J_URL'], name=\"ehrlich-openalex\")\n",
    "graph.run(cypher).to_data_frame()"
   ]
  },
  {
   "cell_type": "markdown",
   "metadata": {},
   "source": [
    "### Citing works (all years)"
   ]
  },
  {
   "cell_type": "code",
   "execution_count": null,
   "metadata": {
    "ExecuteTime": {
     "end_time": "2023-06-01T08:43:57.177106Z",
     "start_time": "2023-06-01T08:43:56.910145Z"
    }
   },
   "outputs": [],
   "source": [
    "cypher = \"\"\"\n",
    "MATCH (a1:Author)-[:CREATOR_OF]->(w1:Work)<-[:CITES]-(w2:Work)<-[:CREATOR_OF]-(a2:Author)\n",
    "WHERE a1.display_name = \"ehrlich, eugen\"\n",
    "WITH w1, w2, COLLECT(a2)[0] AS first_author\n",
    "RETURN\n",
    "    first_author.display_name AS author,\n",
    "    w2.year AS year,\n",
    "    w2.title AS title,\n",
    "    w1.title as cited_work\n",
    "ORDER BY w2.year\n",
    "\"\"\"\n",
    "graph = Graph(config['NEO4J_URL'], name=\"ehrlich-openalex\")\n",
    "graph.run(cypher).to_data_frame()"
   ]
  },
  {
   "cell_type": "markdown",
   "metadata": {},
   "source": [
    "## Citing journals\n",
    "### Citing journals, all years"
   ]
  },
  {
   "cell_type": "code",
   "execution_count": null,
   "metadata": {
    "ExecuteTime": {
     "end_time": "2023-06-01T08:43:57.228756Z",
     "start_time": "2023-06-01T08:43:56.977731Z"
    }
   },
   "outputs": [],
   "source": [
    "query = \"\"\"\n",
    "MATCH (a1:Author)-[r1:CREATOR_OF]->(w1:Work)<-[r2:CITES]-(w2:Work)-[r3:PUBLISHED_IN]-(v1:Venue)\n",
    "WHERE a1.display_name = \"ehrlich, eugen\"\n",
    "with w1, v1, count(r2) as num_citations\n",
    "where num_citations > 1\n",
    "RETURN  v1.name AS container,\n",
    "        num_citations,\n",
    "        w1.title as cited_work\n",
    "order by num_citations desc\n",
    "\"\"\"\n",
    "graph = Graph(config['NEO4J_URL'], name=\"ehrlich-openalex\")\n",
    "graph.run(query).to_data_frame()"
   ]
  },
  {
   "cell_type": "markdown",
   "metadata": {},
   "source": [
    "### Graph: Citing journal, all years"
   ]
  },
  {
   "cell_type": "code",
   "execution_count": null,
   "metadata": {
    "ExecuteTime": {
     "end_time": "2023-06-01T09:05:23.215593Z",
     "start_time": "2023-06-01T09:05:22.853389Z"
    }
   },
   "outputs": [],
   "source": [
    "query = \"\"\"\n",
    "MATCH (a1:Author)-[r1:CREATOR_OF]->(w1:Work)<-[r2:CITES]-(w2:Work)-[r3:PUBLISHED_IN]-(v1:Venue)\n",
    "WHERE a1.display_name = \"ehrlich, eugen\"\n",
    "with w1, v1, count(r2) as num_citations\n",
    "where num_citations > 1\n",
    "RETURN  v1 AS source_node,\n",
    "        apoc.create.vRelationship(v1, 'CITATIONS', {value:num_citations}, w1) as rel,\n",
    "        w1 as target_node\n",
    "\"\"\"\n",
    "graph = Graph(config['NEO4J_URL'], name=\"ehrlich-openalex\")\n",
    "from scripts.pyvis import draw\n",
    "draw(graph, query)"
   ]
  },
  {
   "cell_type": "code",
   "execution_count": null,
   "metadata": {
    "ExecuteTime": {
     "end_time": "2023-06-01T08:43:57.601035Z",
     "start_time": "2023-06-01T08:43:57.443663Z"
    }
   },
   "outputs": [],
   "source": [
    "query = \"\"\"\n",
    "MATCH (a1:Author)-[r1:CREATOR_OF]->(w1:Work)<-[r2:CITES]-(w2:Work)-[r3:PUBLISHED_IN]-(v1:Venue)\n",
    "WHERE a1.display_name = \"ehrlich, eugen\" and w2.year > 1960 and w2.year < 1990\n",
    "with w1, v1, count(r2) as num_citations\n",
    "where num_citations > 1\n",
    "RETURN  v1 AS source_node,\n",
    "        apoc.create.vRelationship(v1, 'CITATIONS', {value:num_citations}, w1) as rel,\n",
    "        w1 as target_node\n",
    "\"\"\"\n",
    "graph = Graph(config['NEO4J_URL'], name=\"ehrlich-openalex\")\n",
    "import scripts.pyvis\n",
    "scripts.pyvis.draw(graph, query)"
   ]
  },
  {
   "cell_type": "markdown",
   "metadata": {},
   "source": [
    "## Citing authors\n",
    "### Citing authors, 1960-1989"
   ]
  },
  {
   "cell_type": "code",
   "execution_count": null,
   "metadata": {
    "ExecuteTime": {
     "end_time": "2023-06-01T14:21:50.511188Z",
     "start_time": "2023-06-01T14:21:50.218349Z"
    }
   },
   "outputs": [],
   "source": [
    "query = \"\"\"\n",
    "MATCH (a1:Author)-[r1:CREATOR_OF]->(w1:Work)<-[r2:CITES]-(w2:Work)<-[r3:CREATOR_OF]-(a2:Author)\n",
    "WHERE a1.display_name = \"ehrlich, eugen\" and w2.year > 1960 and w2.year < 1990\n",
    "with a1, a2, count(r2) as num_citations\n",
    "order by num_citations\n",
    "limit 10\n",
    "with a2, collect\n",
    "RETURN  a2, apoc.create.vRelationship(a2, 'CITES', {value:num_citations}, a1) as rel,a1\n",
    "\"\"\"\n",
    "from scripts.pyvis import draw\n",
    "from scripts.utils import get_graph\n",
    "graph = get_graph(\"ehrlich-openalex\")\n",
    "draw(graph, query)"
   ]
  },
  {
   "cell_type": "markdown",
   "metadata": {},
   "source": [
    "### Graph: Citing authors, at least 3 citations over more than one year"
   ]
  },
  {
   "cell_type": "code",
   "execution_count": null,
   "metadata": {
    "ExecuteTime": {
     "end_time": "2023-06-01T09:05:41.256091Z",
     "start_time": "2023-06-01T09:05:41.038216Z"
    }
   },
   "outputs": [],
   "source": [
    "query = \"\"\"\n",
    "MATCH (a1:Author)-[:CREATOR_OF]->(w1:Work)-[r:CITES]->(w2:Work)<-[:CREATOR_OF]-(a2:Author)\n",
    "WHERE a1.display_name <> \", \" and a2.display_name = \"ehrlich, eugen\"\n",
    "WITH a1, a2, count(r) as total_citations, collect(DISTINCT w1.year) as years\n",
    "WHERE size(years) > 1 and total_citations >= 3\n",
    "MATCH (a1)-[:CREATOR_OF]->(w1:Work)-[r:CITES]->(w2:Work)<-[:CREATOR_OF]-(a2)\n",
    "RETURN a1.display_name as author, w1.year as year, count(r) as citations\n",
    "ORDER BY year\n",
    "\"\"\"\n",
    "from scripts.n4j_plotlib import plot_year_citations\n",
    "graph = Graph(config['NEO4J_URL'], name=\"ehrlich-openalex\")\n",
    "data = graph.run(query).data()\n",
    "plot_year_citations(data)\n"
   ]
  },
  {
   "cell_type": "markdown",
   "metadata": {},
   "source": [
    "## Co-Citations"
   ]
  },
  {
   "cell_type": "markdown",
   "metadata": {},
   "source": [
    "### Authors with most cocited works"
   ]
  },
  {
   "cell_type": "code",
   "execution_count": null,
   "metadata": {
    "ExecuteTime": {
     "end_time": "2023-06-01T11:50:09.568894Z",
     "start_time": "2023-06-01T11:50:09.468391Z"
    }
   },
   "outputs": [],
   "source": [
    "query = \"\"\"\n",
    "MATCH (citedAuthor:Author)-[:CREATOR_OF]->(citedWork:Work)<-[:CITES]-(citingWork:Work),\n",
    "      (citingWork)-[:CITES]->(coCitedWork:Work)<-[:CREATOR_OF]-(coCitedAuthor:Author)\n",
    "WHERE citedAuthor.display_name = \"ehrlich, eugen\" and coCitedAuthor.display_name <> \", \"\n",
    "WITH coCitedAuthor, COUNT(distinct coCitedWork) as coCitationCount\n",
    "ORDER BY coCitationCount DESC\n",
    "LIMIT 10\n",
    "RETURN coCitedAuthor.display_name as Author,\n",
    "    coCitationCount as CoCitationCount\n",
    "\"\"\"\n",
    "from scripts.utils import get_graph\n",
    "graph = get_graph(\"ehrlich-openalex\")\n",
    "graph.run(query).to_table()"
   ]
  },
  {
   "cell_type": "markdown",
   "metadata": {},
   "source": [
    "### Most cocited author that cite Ehrlich"
   ]
  },
  {
   "cell_type": "code",
   "execution_count": null,
   "metadata": {
    "ExecuteTime": {
     "end_time": "2023-06-01T11:50:13.207735Z",
     "start_time": "2023-06-01T11:50:12.800038Z"
    }
   },
   "outputs": [],
   "source": [
    "query=\"\"\"\n",
    "MATCH (citingWork:Work)-[:CITES]->(citedWork:Work)<-[:CREATOR_OF]-(citedAuthor:Author),\n",
    "      (citingWork)-[coCitation:CITES]->(coCitedWork:Work)<-[:CREATOR_OF]-(coCitedAuthor:Author)\n",
    "where citedAuthor.display_name = \"ehrlich, eugen\"\n",
    "    and coCitedAuthor.display_name <> \", \"\n",
    "    and citedAuthor <> coCitedAuthor\n",
    "    and exists((coCitedWork)-[:CITES]->(:Work)<-[:CREATOR_OF]-(citedAuthor))\n",
    "WITH citedAuthor, coCitedAuthor,\n",
    "    COUNT(distinct coCitation) as coCitationCount,\n",
    "    collect(distinct citedWork) as citedWorks,\n",
    "    collect(distinct coCitedWork) as coCitedWorks\n",
    "ORDER BY coCitationCount DESC\n",
    "LIMIT 10\n",
    "call {\n",
    "    with citedWorks, coCitedWorks\n",
    "    unwind citedWorks as citedWork\n",
    "    unwind coCitedWorks as coCitedWork\n",
    "    MATCH (citingWork:Work)-[:CITES]->(citedWork)\n",
    "    where exists((citingWork)-[:CITES]->(coCitedWork))\n",
    "    with citedWork, count(citedWork) as citedWorkCitedCount\n",
    "    ORDER BY citedWorkCitedCount DESC\n",
    "    LIMIT 1\n",
    "    return citedWork as mostCitedCitedWork\n",
    "}\n",
    "call {\n",
    "    with citedWorks, coCitedWorks\n",
    "    unwind citedWorks as citedWork\n",
    "    unwind coCitedWorks as coCitedWork\n",
    "    MATCH (citingWork:Work)-[:CITES]->(coCitedWork)\n",
    "    where exists((citingWork)-[:CITES]->(citedWork))\n",
    "    with coCitedWork, count(coCitedWork) as coCitationCitedCount\n",
    "    ORDER BY coCitationCitedCount DESC\n",
    "    LIMIT 1\n",
    "    return coCitedWork as mostCitedCoCitedWork\n",
    "}\n",
    "return coCitedAuthor.display_name as `Co-cited author`,\n",
    "    coCitationCount as `Number of co-citations`,\n",
    "    mostCitedCitedWork.display_name as `Most cited work of cited author`,\n",
    "    mostCitedCoCitedWork.display_name as `Most cited work of co-cited author`\n",
    "\"\"\"\n",
    "from scripts.utils import get_graph\n",
    "graph = get_graph(\"ehrlich-openalex\")\n",
    "graph.run(query).to_table()\n"
   ]
  },
  {
   "cell_type": "markdown",
   "metadata": {},
   "source": [
    "### Most co-cited authors with at least 10 years in which they were cocitated"
   ]
  },
  {
   "cell_type": "code",
   "execution_count": null,
   "metadata": {
    "ExecuteTime": {
     "end_time": "2023-06-01T11:41:50.543483Z",
     "start_time": "2023-06-01T11:41:49.880566Z"
    }
   },
   "outputs": [],
   "source": [
    "query=\"\"\"\n",
    "MATCH (citingWork:Work)-[:CITES]->(citedWork:Work)<-[:CREATOR_OF]-(citedAuthor:Author),\n",
    "      (citingWork)-[coCitation:CITES]->(coCitedWork:Work)<-[:CREATOR_OF]-(coCitedAuthor:Author)\n",
    "where citedAuthor.display_name = \"ehrlich, eugen\"\n",
    "    and coCitedAuthor.display_name <> \", \"\n",
    "    and citedAuthor <> coCitedAuthor\n",
    "WITH citedAuthor, coCitedAuthor,\n",
    "    COUNT(distinct coCitation) as coCitationCount,\n",
    "    collect(distinct citedWork) as citedWorks,\n",
    "    collect(distinct coCitedWork) as coCitedWorks,\n",
    "    collect(DISTINCT citingWork.year) as citingWorkYears\n",
    "where size(citingWorkYears) > 10\n",
    "with citedAuthor, coCitedAuthor, coCitationCount, citedWorks, coCitedWorks\n",
    "ORDER BY coCitationCount DESC\n",
    "LIMIT 10\n",
    "call {\n",
    "    with citedWorks, coCitedWorks\n",
    "    unwind citedWorks as citedWork\n",
    "    unwind coCitedWorks as coCitedWork\n",
    "    MATCH (citingWork:Work)-[:CITES]->(citedWork)\n",
    "    where exists((citingWork)-[:CITES]->(coCitedWork))\n",
    "    with citedWork, count(citedWork) as citedWorkCitedCount\n",
    "    ORDER BY citedWorkCitedCount DESC\n",
    "    LIMIT 1\n",
    "    return citedWork as mostCitedCitedWork\n",
    "}\n",
    "call {\n",
    "    with citedWorks, coCitedWorks\n",
    "    unwind citedWorks as citedWork\n",
    "    unwind coCitedWorks as coCitedWork\n",
    "    MATCH (citingWork:Work)-[:CITES]->(coCitedWork)\n",
    "    where exists((citingWork)-[:CITES]->(citedWork))\n",
    "    with coCitedWork, count(coCitedWork) as coCitationCitedCount\n",
    "    ORDER BY coCitationCitedCount DESC\n",
    "    LIMIT 1\n",
    "    return coCitedWork as mostCitedCoCitedWork\n",
    "}\n",
    "return coCitedAuthor.display_name as `Co-cited author`,\n",
    "    coCitationCount as `Number of co-citations`,\n",
    "    mostCitedCitedWork.display_name as `Most cited work of cited author`,\n",
    "    mostCitedCoCitedWork.display_name as `Most cited work of co-cited author`\n",
    "\"\"\"\n",
    "from scripts.utils import get_graph\n",
    "graph = get_graph(\"ehrlich-openalex\")\n",
    "graph.run(query).to_table()\n"
   ]
  },
  {
   "cell_type": "markdown",
   "metadata": {},
   "source": [
    "### Graph: Co-cited authors"
   ]
  },
  {
   "cell_type": "code",
   "execution_count": null,
   "metadata": {
    "ExecuteTime": {
     "end_time": "2023-06-01T10:52:06.585081Z",
     "start_time": "2023-06-01T10:52:06.074925Z"
    }
   },
   "outputs": [],
   "source": [
    "query = \"\"\"\n",
    "MATCH (a1:Author)-[:CREATOR_OF]->(w1:Work)<-[:CITES]-(w:Work)-[:CITES]->(w2:Work)<-[:CREATOR_OF]-(a2:Author)\n",
    "where a2.display_name = \"ehrlich, eugen\"\n",
    "    and a1.display_name <> \", \"\n",
    "    and id(a1) <> id(a2)\n",
    "WITH a1, a2, COUNT(distinct w1) as num_cocitations, collect(distinct w.year) as citingWorkYears\n",
    "where size(citingWorkYears) > 10\n",
    "with a1, a2, num_cocitations\n",
    "ORDER BY num_cocitations DESC\n",
    "LIMIT 10\n",
    "CALL apoc.create.vRelationship(a1, \"IS_COCITED_WITH\", {count: num_cocitations, title: num_cocitations}, a2)\n",
    "YIELD rel\n",
    "RETURN a1, rel, a2\n",
    "\"\"\"\n",
    "from scripts.pyvis import draw\n",
    "from scripts.utils import get_graph\n",
    "graph = get_graph(\"ehrlich-openalex\")\n",
    "draw(graph, query, file=\"figure/ehrlich-co-citation-network.html\", height=\"800px\")"
   ]
  },
  {
   "cell_type": "markdown",
   "metadata": {},
   "source": [
    "### Graph: Co-cited Authors, over time"
   ]
  },
  {
   "cell_type": "code",
   "execution_count": null,
   "metadata": {
    "ExecuteTime": {
     "end_time": "2023-06-01T14:17:36.444098Z",
     "start_time": "2023-06-01T14:17:35.854459Z"
    }
   },
   "outputs": [],
   "source": [
    "query = \"\"\"\n",
    "MATCH (a1:Author)-[:CREATOR_OF]->(w1:Work)<-[r:CITES]-(w:Work)-[:CITES]->(w2:Work)<-[:CREATOR_OF]-(a2:Author)\n",
    "WHERE a2.display_name = \"ehrlich, eugen\"\n",
    "    AND a1.display_name <> \", \"\n",
    "    and id(a1) <> id(a2)\n",
    "    and exists((w1)-[:CITES]->(:Work)<-[:CREATOR_OF]-(a2))\n",
    "WITH a1, w.year AS year, COUNT(r) AS num_citations\n",
    "WITH a1, SUM(num_citations) AS total_citations\n",
    "WHERE total_citations >= 3\n",
    "WITH a1, total_citations\n",
    "ORDER BY total_citations DESC\n",
    "LIMIT 20\n",
    "MATCH (a1)-[:CREATOR_OF]->(w1:Work)<-[r:CITES]-(w:Work)-[:CITES]->(w2:Work)<-[:CREATOR_OF]-(a2:Author)\n",
    "WHERE a2.display_name = \"ehrlich, eugen\"\n",
    "    and id(a1) <> id(a2)\n",
    "    and exists((w1)-[:CITES]->(:Work)<-[:CREATOR_OF]-(a2))\n",
    "RETURN a1.display_name AS author, w.year AS year, COUNT(distinct r) AS citations\n",
    "ORDER BY year\n",
    "\"\"\"\n",
    "from scripts.n4j_plotlib import plot_year_citations\n",
    "from scripts.utils import get_graph\n",
    "graph = get_graph(\"ehrlich-openalex\")\n",
    "data = graph.run(query).data()\n",
    "plot_year_citations(data)"
   ]
  },
  {
   "cell_type": "markdown",
   "metadata": {},
   "source": [
    "# Eigene Daten\n",
    "\n",
    "Die Daten für die folgenden Abfragen wurden durch Zitationsextraktion aus den Volltexten der Zeitschrift für Rechtssoziologie, des Journal of Law and Society und einer Sammlung von Rechtssoziologie-Lehrbüchern zwischen 1960 und 1989 gewonnen. Sie sind aufgrund der maschinellen Extraktion in Teilen fehlerhaft und unvollständig. Jedoch sollten diese Fehler gleichmäßig verteilt sein und daher Ergebnisse verlässlich sein, die nicht einzelne Werte betreffen, sondern größere Trends ausdrücken."
   ]
  },
  {
   "cell_type": "markdown",
   "metadata": {},
   "source": [
    "## Zitierende Autor:innen, gesamter Zeitraum (Zeitreihe)"
   ]
  },
  {
   "cell_type": "code",
   "execution_count": null,
   "metadata": {
    "ExecuteTime": {
     "end_time": "2023-06-04T19:15:47.143640Z",
     "start_time": "2023-06-04T19:15:47.118639Z"
    }
   },
   "outputs": [],
   "source": [
    "query = \"\"\"\n",
    "MATCH (a1:Author)-[:CREATOR_OF]->(w1:Work)-[r:CITES]->(w2:Work)<-[:CREATOR_OF]-(a2:Author)\n",
    "where tolower(a2.display_name) starts with \"ehrlich, e\"\n",
    "RETURN a1.display_name as author, w1.year as year, count(r) as citations\n",
    "ORDER BY year\n",
    "\"\"\""
   ]
  },
  {
   "cell_type": "markdown",
   "metadata": {},
   "source": [
    "### ZfRsoz"
   ]
  },
  {
   "cell_type": "code",
   "execution_count": null,
   "metadata": {
    "ExecuteTime": {
     "end_time": "2023-06-04T19:16:40.054414Z",
     "start_time": "2023-06-04T19:16:39.403212Z"
    }
   },
   "outputs": [],
   "source": [
    "from scripts.n4j_plotlib import plot_year_citations\n",
    "from scripts.utils import get_graph\n",
    "data = get_graph(\"zfrsoz\").run(query).data()\n",
    "plot_year_citations(data)"
   ]
  },
  {
   "cell_type": "markdown",
   "metadata": {},
   "source": [
    "### JLS"
   ]
  },
  {
   "cell_type": "code",
   "execution_count": null,
   "metadata": {
    "ExecuteTime": {
     "end_time": "2023-06-04T19:17:18.161632Z",
     "start_time": "2023-06-04T19:17:17.904648Z"
    }
   },
   "outputs": [],
   "source": [
    "data = get_graph(\"jls\").run(query).data()\n",
    "plot_year_citations(data)"
   ]
  },
  {
   "cell_type": "markdown",
   "metadata": {},
   "source": [
    "## Zitierende Autor:innen, gesamter Zeitraum (Tabellen)"
   ]
  },
  {
   "cell_type": "code",
   "execution_count": 20,
   "metadata": {
    "ExecuteTime": {
     "start_time": "2023-06-06T15:43:48.879925Z",
     "end_time": "2023-06-06T15:43:48.895269Z"
    }
   },
   "outputs": [],
   "source": [
    "query = \"\"\"\n",
    "MATCH (citing_author:Author)-[:CREATOR_OF]->(citing_work:Work)-[citation:CITES]->(cited_work:Work)<-[:CREATOR_OF]-(cited_author:Author)\n",
    "where (tolower(cited_author.display_name) starts with \"ehrlich, e\"\n",
    "    or tolower(cited_work.title) contains \"eugen ehrlich\")\n",
    "    //AND citing_work.year > 1960 and citing_work.year < 1990\n",
    "WITH citing_author,\n",
    "    collect(distinct citing_work) AS citing_works,\n",
    "    collect(distinct cited_work) AS cited_works,\n",
    "    count(citation) as num_citations\n",
    "ORDER BY num_citations DESC\n",
    "call {\n",
    "    with citing_works\n",
    "    unwind citing_works as citing_work\n",
    "    MATCH (citing_work)-[citation:CITES]->(cited_work:Work)\n",
    "    with citing_work, count(citation) as num_citations\n",
    "    ORDER BY num_citations DESC\n",
    "    LIMIT 1\n",
    "    return citing_work as most_citing_work\n",
    "}\n",
    "call {\n",
    "    with cited_works\n",
    "    unwind cited_works as cited_work\n",
    "    MATCH (citing_work:Work)-[citation:CITES]->(cited_work)<-[:CREATOR_OF]-(cited_author:Author)\n",
    "    where tolower(cited_author.display_name) starts with \"ehrlich, e\"\n",
    "    with cited_work, count(citation) as num_citations\n",
    "    ORDER BY num_citations DESC\n",
    "    return collect(cited_work) as most_cited_works_ehrlich\n",
    "}\n",
    "call {\n",
    "    with cited_works\n",
    "    unwind cited_works as cited_work\n",
    "    MATCH (citing_work:Work)-[citation:CITES]->(cited_work)<-[:CREATOR_OF]-(cited_author:Author)\n",
    "    where tolower(cited_work.title) contains \"eugen ehrlich\"\n",
    "  //      and not tolower(cited_author.display_name) starts with \"ehrlich, e\"\n",
    "    with cited_work, count(citation) as num_citations\n",
    "    ORDER BY num_citations DESC\n",
    "    return collect(cited_work) as most_cited_works_second_lit\n",
    "}\n",
    "RETURN citing_author.display_name AS Author,\n",
    "    size(citing_works) as `Citing works`,\n",
    "    most_citing_work.display_name AS `Most citing work`,\n",
    "    size(most_cited_works_ehrlich) as `Cited works (Ehrlich)`,\n",
    "    coalesce(most_cited_works_ehrlich[0].display_name, '') AS `Most cited (Ehrlich)`,\n",
    "    size(most_cited_works_second_lit) as `Cited works (Second. lit.)`,\n",
    "    coalesce(most_cited_works_second_lit[0].display_name, '') as `Most cited (Second. lit.)`\n",
    "order by num_citations desc\n",
    "limit 10\n",
    "\"\"\"\n"
   ]
  },
  {
   "cell_type": "markdown",
   "metadata": {},
   "source": [
    "### Zeitschrift für Rechtssoziologie"
   ]
  },
  {
   "cell_type": "code",
   "execution_count": 21,
   "metadata": {
    "ExecuteTime": {
     "start_time": "2023-06-06T15:43:50.048398Z",
     "end_time": "2023-06-06T15:43:50.396986Z"
    }
   },
   "outputs": [
    {
     "data": {
      "text/plain": " Author                | Citing works | Most citing work                                                                                                                               | Cited works (Ehrlich) | Most cited (Ehrlich)                                         | Cited works (Second. lit.) | Most cited (Second. lit.)                                                                                                         \n-----------------------|--------------|------------------------------------------------------------------------------------------------------------------------------------------------|-----------------------|--------------------------------------------------------------|----------------------------|-----------------------------------------------------------------------------------------------------------------------------------\n Haferkamp, Hans-Peter |            1 | haferkamp (2021): hermann kantorowicz’ vortrag auf dem ersten soziologentag 1910                                                               |                     5 | ehrlich (1913): grundlegung der soziologie des rechts        |                          0 |                                                                                                                                   \n Bora, Alfons          |            2 | bora (2021): rechtssoziologie zwischen wissenschaft und social engineering. zum historischen verständnis interdisziplinärer reflexionsprobleme |                     2 | ehrlich (1989): grundlegung der soziologie des rechts (1913) |                          1 | röhl (2013): 100 jahre rechtssoziologie: eugen ehrlichs rechtspluralismus heute                                                   \n Boehncke, Clemens     |            1 | boehncke (2021): die ‚freirechtler‘ als intellektuellengruppe betrachtet                                                                       |                     2 | ehrlich (1907): die tatsachen des gewohnheitsrechts          |                          2 | rehbinder (1986): die begründung der rechtssoziologie durch eugen ehrlich                                                         \n Teubner, Günther      |            1 | teubner (2015): exogene selbstbindung: wie gesellschaftliche teilsysteme ihre gründungsparadoxien externalisieren                              |                     0 |                                                              |                          1 | machura (2013): eugen ehrlichs rechtspluralis                                                                                     \n Feldmann, Malte       |            1 | feldmann (2021): hans kelsens soziologieverständnis in den 1920er jahren: auch eine geschichte einer hinwendung?                               |                     0 |                                                              |                          3 | rehbinder (1986): die begründung der rechtssoziologie durch eugen ehrlich                                                         \n Scheffer, Thomas      |            1 | scheffer (2015): diskurspraxis in recht und politik.                                                                                           |                     1 | ehrlich (1989): grundlegung der soziologie des rechts        |                          1 | rehbinder (1986): die begründung der rechtssoziologie durch eugen ehrlich                                                         \n Egbert, Simon         |            1 | egbert (2020): predictive policing als treiber rechtlicher innovation?                                                                         |                     1 | ehrlich (1913): grundlegung der soziologie des rechts        |                          1 | rottleuthner (2013): das lebende recht bei eugen ehrlich und ernst hirsch / living law in eugen ehrlich and ernst hirsch          \n Maurer, Hans-Uhr!)    |            1 | kocher (2013): rezensionen                                                                                                                     |                     0 |                                                              |                          1 | lüderssen (2009): soziale gesetzgebungspolitik, freie rechtsfindung und soziologische rechtswissenschaft bei eugen ehrlich. nomos \n Kocher, Eva           |            1 | kocher (2013): rezensionen                                                                                                                     |                     0 |                                                              |                          1 | lüderssen (2009): soziale gesetzgebungspolitik, freie rechtsfindung und soziologische rechtswissenschaft bei eugen ehrlich. nomos \n Machura, Stefan       |            1 | kocher (2013): rezensionen                                                                                                                     |                     0 |                                                              |                          1 | lüderssen (2009): soziale gesetzgebungspolitik, freie rechtsfindung und soziologische rechtswissenschaft bei eugen ehrlich. nomos ",
      "text/html": "<table><tr><th>Author</th><th>Citing works</th><th>Most citing work</th><th>Cited works (Ehrlich)</th><th>Most cited (Ehrlich)</th><th>Cited works (Second. lit.)</th><th>Most cited (Second. lit.)</th></tr><tr><td style=\"text-align:left\">Haferkamp, Hans-Peter</td><td style=\"text-align:right\">1</td><td style=\"text-align:left\">haferkamp (2021): hermann kantorowicz’ vortrag auf dem ersten soziologentag 1910</td><td style=\"text-align:right\">5</td><td style=\"text-align:left\">ehrlich (1913): grundlegung der soziologie des rechts</td><td style=\"text-align:right\">0</td><td style=\"text-align:left\"></td></tr><tr><td style=\"text-align:left\">Bora, Alfons</td><td style=\"text-align:right\">2</td><td style=\"text-align:left\">bora (2021): rechtssoziologie zwischen wissenschaft und social engineering. zum historischen verständnis interdisziplinärer reflexionsprobleme</td><td style=\"text-align:right\">2</td><td style=\"text-align:left\">ehrlich (1989): grundlegung der soziologie des rechts (1913)</td><td style=\"text-align:right\">1</td><td style=\"text-align:left\">röhl (2013): 100 jahre rechtssoziologie: eugen ehrlichs rechtspluralismus heute</td></tr><tr><td style=\"text-align:left\">Boehncke, Clemens</td><td style=\"text-align:right\">1</td><td style=\"text-align:left\">boehncke (2021): die ‚freirechtler‘ als intellektuellengruppe betrachtet</td><td style=\"text-align:right\">2</td><td style=\"text-align:left\">ehrlich (1907): die tatsachen des gewohnheitsrechts</td><td style=\"text-align:right\">2</td><td style=\"text-align:left\">rehbinder (1986): die begründung der rechtssoziologie durch eugen ehrlich</td></tr><tr><td style=\"text-align:left\">Teubner, Günther</td><td style=\"text-align:right\">1</td><td style=\"text-align:left\">teubner (2015): exogene selbstbindung: wie gesellschaftliche teilsysteme ihre gründungsparadoxien externalisieren</td><td style=\"text-align:right\">0</td><td style=\"text-align:left\"></td><td style=\"text-align:right\">1</td><td style=\"text-align:left\">machura (2013): eugen ehrlichs rechtspluralis</td></tr><tr><td style=\"text-align:left\">Feldmann, Malte</td><td style=\"text-align:right\">1</td><td style=\"text-align:left\">feldmann (2021): hans kelsens soziologieverständnis in den 1920er jahren: auch eine geschichte einer hinwendung?</td><td style=\"text-align:right\">0</td><td style=\"text-align:left\"></td><td style=\"text-align:right\">3</td><td style=\"text-align:left\">rehbinder (1986): die begründung der rechtssoziologie durch eugen ehrlich</td></tr><tr><td style=\"text-align:left\">Scheffer, Thomas</td><td style=\"text-align:right\">1</td><td style=\"text-align:left\">scheffer (2015): diskurspraxis in recht und politik.</td><td style=\"text-align:right\">1</td><td style=\"text-align:left\">ehrlich (1989): grundlegung der soziologie des rechts</td><td style=\"text-align:right\">1</td><td style=\"text-align:left\">rehbinder (1986): die begründung der rechtssoziologie durch eugen ehrlich</td></tr><tr><td style=\"text-align:left\">Egbert, Simon</td><td style=\"text-align:right\">1</td><td style=\"text-align:left\">egbert (2020): predictive policing als treiber rechtlicher innovation?</td><td style=\"text-align:right\">1</td><td style=\"text-align:left\">ehrlich (1913): grundlegung der soziologie des rechts</td><td style=\"text-align:right\">1</td><td style=\"text-align:left\">rottleuthner (2013): das lebende recht bei eugen ehrlich und ernst hirsch / living law in eugen ehrlich and ernst hirsch</td></tr><tr><td style=\"text-align:left\">Maurer, Hans-Uhr!)</td><td style=\"text-align:right\">1</td><td style=\"text-align:left\">kocher (2013): rezensionen</td><td style=\"text-align:right\">0</td><td style=\"text-align:left\"></td><td style=\"text-align:right\">1</td><td style=\"text-align:left\">lüderssen (2009): soziale gesetzgebungspolitik, freie rechtsfindung und soziologische rechtswissenschaft bei eugen ehrlich. nomos</td></tr><tr><td style=\"text-align:left\">Kocher, Eva</td><td style=\"text-align:right\">1</td><td style=\"text-align:left\">kocher (2013): rezensionen</td><td style=\"text-align:right\">0</td><td style=\"text-align:left\"></td><td style=\"text-align:right\">1</td><td style=\"text-align:left\">lüderssen (2009): soziale gesetzgebungspolitik, freie rechtsfindung und soziologische rechtswissenschaft bei eugen ehrlich. nomos</td></tr><tr><td style=\"text-align:left\">Machura, Stefan</td><td style=\"text-align:right\">1</td><td style=\"text-align:left\">kocher (2013): rezensionen</td><td style=\"text-align:right\">0</td><td style=\"text-align:left\"></td><td style=\"text-align:right\">1</td><td style=\"text-align:left\">lüderssen (2009): soziale gesetzgebungspolitik, freie rechtsfindung und soziologische rechtswissenschaft bei eugen ehrlich. nomos</td></tr></table>"
     },
     "execution_count": 21,
     "metadata": {},
     "output_type": "execute_result"
    }
   ],
   "source": [
    "graph = get_graph(\"zfrsoz\")\n",
    "graph.run(query).to_table()"
   ]
  },
  {
   "cell_type": "markdown",
   "metadata": {},
   "source": [
    "### Lehrbücher"
   ]
  },
  {
   "cell_type": "code",
   "execution_count": null,
   "metadata": {
    "ExecuteTime": {
     "end_time": "2023-06-04T19:32:57.000333Z",
     "start_time": "2023-06-04T19:32:56.926326Z"
    }
   },
   "outputs": [],
   "source": [
    "graph = get_graph(\"rsoz-lehrbuecher\")\n",
    "graph.run(query).to_table()"
   ]
  },
  {
   "cell_type": "markdown",
   "metadata": {},
   "source": [
    "### JLS"
   ]
  },
  {
   "cell_type": "code",
   "execution_count": null,
   "metadata": {
    "ExecuteTime": {
     "end_time": "2023-06-04T19:12:16.583741Z",
     "start_time": "2023-06-04T19:12:16.331744Z"
    }
   },
   "outputs": [],
   "source": [
    "graph = get_graph(\"jls\")\n",
    "graph.run(query).to_table()"
   ]
  },
  {
   "cell_type": "markdown",
   "metadata": {},
   "source": [
    "## Zitationsnetzwerk"
   ]
  },
  {
   "cell_type": "code",
   "execution_count": 9,
   "metadata": {
    "ExecuteTime": {
     "end_time": "2023-06-05T12:11:00.269846Z",
     "start_time": "2023-06-05T12:11:00.236301Z"
    }
   },
   "outputs": [],
   "source": [
    "query1 = \"\"\"\n",
    "MATCH p1=(a:Author)-[:CREATOR_OF]->(w1:Work)<-[:CITES]-(w2:Work)<-[:CITES]-(w3:Work)\n",
    "WHERE tolower(a.display_name) starts with \"ehrlich, e\"\n",
    "    AND w2.year < 1990 and w3.year < 1990\n",
    "call {\n",
    "    with w1\n",
    "    SET w1.group = 'ehrlich'\n",
    "}\n",
    "RETURN p1\n",
    "\"\"\"\n",
    "query2 = \"\"\"\n",
    "match (a:Author)-[:CREATOR_OF]->(w1:Work), (a)-[:CREATOR_OF]->(w2:Work)\n",
    "where tolower(a.display_name) starts with \"ehrlich, e\"\n",
    "    //and w1.year > w2.year and w1.year <1989 and w2.year <1989\n",
    "    and w1.title starts with \"grundlegung\"\n",
    "    and (w2.title starts with \"grundlegung\" or w2.title starts with \"fundamental\")\n",
    "return w1, w2, apoc.create.vRelationship(w1, 'SAME_AS', {group:\"SAME_AS\", hidden:true}, w2) as rel\n",
    "\"\"\"\n"
   ]
  },
  {
   "cell_type": "markdown",
   "metadata": {},
   "source": [
    "### Lehrbücher (1960-1989)"
   ]
  },
  {
   "cell_type": "code",
   "execution_count": 7,
   "metadata": {
    "ExecuteTime": {
     "end_time": "2023-06-05T10:43:36.780226Z",
     "start_time": "2023-06-05T10:43:35.391458Z"
    }
   },
   "outputs": [
    {
     "data": {
      "text/html": [
       "<a href=\"docs/ehrlich-rsoz-lehrbuecher-network.html\" target=\"_blank\">Click here to open the graph.</a>"
      ],
      "text/plain": [
       "<IPython.core.display.HTML object>"
      ]
     },
     "metadata": {},
     "output_type": "display_data"
    }
   ],
   "source": [
    "from scripts.pyvis import create_or_update_network, draw_network\n",
    "from scripts.utils import get_graph\n",
    "graph = get_graph(\"rsoz-lehrbuecher\")\n",
    "net = create_or_update_network(graph, query1, height=\"1000px\")\n",
    "net = create_or_update_network(graph, query2, net=net)\n",
    "draw_network(net,file=\"docs/ehrlich-rsoz-lehrbuecher-network.html\", link_only=True)"
   ]
  },
  {
   "cell_type": "markdown",
   "metadata": {},
   "source": [
    "Hypothese: die Zitierung eines Werks von Ehrlich (w1) in einem Werk der Sekundärliteratur (w2) hat Auswirkung auf die Zitierung von (w1) in der (w2) zitierenden Literatur"
   ]
  },
  {
   "cell_type": "code",
   "execution_count": 7,
   "metadata": {
    "ExecuteTime": {
     "end_time": "2023-06-05T11:43:19.559963Z",
     "start_time": "2023-06-05T11:43:16.658246Z"
    }
   },
   "outputs": [
    {
     "data": {
      "text/html": [
       "<a href=\"docs/ehrlich-rsoz-lehrbuecher-network2.html\" target=\"_blank\">Click here to open the graph.</a>"
      ],
      "text/plain": [
       "<IPython.core.display.HTML object>"
      ]
     },
     "metadata": {},
     "output_type": "display_data"
    }
   ],
   "source": [
    "query3 = \"\"\"\n",
    "MATCH p1=(a:Author)-[:CREATOR_OF]->(w1:Work)<-[:CITES]-(w2:Work)<-[:CITES]-(w3:Work),\n",
    "    p2=(w3)-[:CITES]->(w1)\n",
    "WHERE tolower(a.display_name) starts with \"ehrlich, e\"\n",
    "    AND w2.year < 1990 and w3.year < 1990\n",
    "RETURN p1, p2\n",
    "\"\"\"\n",
    "from scripts.pyvis import create_or_update_network, draw_network\n",
    "from scripts.utils import get_graph\n",
    "graph = get_graph(\"rsoz-lehrbuecher\")\n",
    "net = create_or_update_network(graph, query3, height=\"800px\")\n",
    "draw_network(net,file=\"docs/ehrlich-rsoz-lehrbuecher-network2.html\", link_only=True)"
   ]
  },
  {
   "cell_type": "markdown",
   "metadata": {},
   "source": [
    "### ZfRsoz (alle Jahre)"
   ]
  },
  {
   "cell_type": "code",
   "execution_count": 13,
   "metadata": {
    "ExecuteTime": {
     "end_time": "2023-06-05T12:11:03.725103Z",
     "start_time": "2023-06-05T12:11:03.308596Z"
    }
   },
   "outputs": [
    {
     "data": {
      "text/html": [
       "<a href=\"docs/ehrlich-zfrsoz-network.html\" target=\"_blank\">Click here to open the graph.</a>"
      ],
      "text/plain": [
       "<IPython.core.display.HTML object>"
      ]
     },
     "metadata": {},
     "output_type": "display_data"
    }
   ],
   "source": [
    "query4 = \"\"\"\n",
    "MATCH p1=(a:Author)-[:CREATOR_OF]->(w1:Work)<-[:CITES]-(w2:Work)<-[:CITES]-(w3:Work)\n",
    "WHERE tolower(a.display_name) starts with \"ehrlich, e\"\n",
    "call {\n",
    "    with w1\n",
    "    SET w1.group = 'ehrlich'\n",
    "}\n",
    "RETURN p1\n",
    "\"\"\"\n",
    "from scripts.pyvis import create_or_update_network, draw_network\n",
    "from scripts.utils import get_graph\n",
    "graph = get_graph(\"zfrsoz\")\n",
    "net = create_or_update_network(graph, query4, height=\"800px\")\n",
    "draw_network(net,file=\"docs/ehrlich-zfrsoz-network.html\", link_only=True)"
   ]
  },
  {
   "cell_type": "markdown",
   "metadata": {},
   "source": [
    "### JLS"
   ]
  },
  {
   "cell_type": "code",
   "execution_count": 18,
   "metadata": {
    "ExecuteTime": {
     "start_time": "2023-06-05T12:23:42.178978Z",
     "end_time": "2023-06-05T12:23:42.569984Z"
    }
   },
   "outputs": [
    {
     "data": {
      "text/plain": "<IPython.core.display.HTML object>",
      "text/html": "<a href=\"docs/ehrlich-jls-network.html\" target=\"_blank\">Click here to open the graph.</a>"
     },
     "metadata": {},
     "output_type": "display_data"
    }
   ],
   "source": [
    "query5 = \"\"\"\n",
    "MATCH p1=(a:Author)-[:CREATOR_OF]->(w1:Work)<-[:CITES]-(w2:Work)<-[:CITES]-(w3:Work)\n",
    "WHERE tolower(a.display_name) starts with \"ehrlich, e\"\n",
    "call {\n",
    "    with w1\n",
    "    SET w1.group = 'ehrlich'\n",
    "}\n",
    "RETURN p1\n",
    "\"\"\"\n",
    "from scripts.pyvis import create_or_update_network, draw_network\n",
    "from scripts.utils import get_graph\n",
    "graph = get_graph(\"jls\")\n",
    "net = create_or_update_network(graph, query5, height=\"800px\")\n",
    "draw_network(net,file=\"docs/ehrlich-jls-network.html\", link_only=True)\n"
   ]
  }
 ],
 "metadata": {
  "kernelspec": {
   "display_name": "Python 3 (ipykernel)",
   "language": "python",
   "name": "python3"
  },
  "language_info": {
   "codemirror_mode": {
    "name": "ipython",
    "version": 3
   },
   "file_extension": ".py",
   "mimetype": "text/x-python",
   "name": "python",
   "nbconvert_exporter": "python",
   "pygments_lexer": "ipython3",
   "version": "3.9.16"
  },
  "toc": {
   "base_numbering": 1,
   "nav_menu": {},
   "number_sections": true,
   "sideBar": true,
   "skip_h1_title": false,
   "title_cell": "Table of Contents",
   "title_sidebar": "Contents",
   "toc_cell": false,
   "toc_position": {
    "height": "calc(100% - 180px)",
    "left": "10px",
    "top": "150px",
    "width": "249.433px"
   },
   "toc_section_display": true,
   "toc_window_display": true
  }
 },
 "nbformat": 4,
 "nbformat_minor": 1
}
