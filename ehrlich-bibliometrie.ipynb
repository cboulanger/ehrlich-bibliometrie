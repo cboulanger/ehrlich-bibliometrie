{
 "cells": [
  {
   "cell_type": "markdown",
   "metadata": {},
   "source": [
    "# Eugen Ehrlich im Web of Science und in OpenAlex\n",
    "\n",
    "This notebook ..."
   ]
  },
  {
   "cell_type": "markdown",
   "metadata": {},
   "source": [
    "## Install dependencies"
   ]
  },
  {
   "cell_type": "code",
   "execution_count": 1,
   "metadata": {},
   "outputs": [],
   "source": [
    "# Uncomment and run once\n",
    "#!pip install py2neo python-dotenv\n",
    "#!conda install pandas"
   ]
  },
  {
   "cell_type": "markdown",
   "metadata": {},
   "source": [
    "## Initialization"
   ]
  },
  {
   "cell_type": "code",
   "execution_count": 1,
   "metadata": {},
   "outputs": [],
   "source": [
    "# config\n",
    "from dotenv import dotenv_values\n",
    "config = {**dotenv_values()}\n",
    "\n",
    "# https://py2neo.org/v4/\n",
    "from py2neo import Graph, Node, Relationship\n",
    "graph = Graph(config['NEO4J_URL'])\n",
    "\n",
    "# visualization\n",
    "from scripts.vis import draw\n",
    "\n",
    "# clean up visualization HTML dir\n",
    "from pathlib import Path\n",
    "import shutil\n",
    "figure_dir = Path('figure')\n",
    "if figure_dir.exists() and figure_dir.is_dir():\n",
    "    shutil.rmtree(figure_dir)\n",
    "figure_dir.mkdir()"
   ]
  },
  {
   "cell_type": "markdown",
   "metadata": {},
   "source": [
    "## Web of Science\n",
    "\n",
    "KB -> Neo4J\n",
    "\n",
    "### Overview"
   ]
  },
  {
   "cell_type": "code",
   "execution_count": 3,
   "metadata": {},
   "outputs": [
    {
     "data": {
      "text/plain": "[{'works_cited': 33,\n  'num_citations': 34,\n  'citing_works': 25,\n  'citing_authors': 37}]"
     },
     "execution_count": 3,
     "metadata": {},
     "output_type": "execute_result"
    }
   ],
   "source": [
    "cypher = \"\"\"\n",
    "use `ehrlich-wos`\n",
    "match (a1:Author)-[r1:CREATOR_OF]->(w1:Work)<-[r2:CITES]-(w2:Work)<-[r3:CREATOR_OF]-(a2:Author)\n",
    "where a1.display_name = \"ehrlich, eugen\"\n",
    "return count(distinct w1) as works_cited,\n",
    "    count(distinct r2) as num_citations,\n",
    "    count(distinct w2) as citing_works,\n",
    "    count(distinct a2) as citing_authors\n",
    "\"\"\"\n",
    "graph.run(cypher).data()"
   ]
  },
  {
   "cell_type": "markdown",
   "metadata": {},
   "source": [
    "### Cited works"
   ]
  },
  {
   "cell_type": "code",
   "execution_count": 4,
   "metadata": {},
   "outputs": [
    {
     "data": {
      "text/plain": "            author  year                                              title\n0   ehrlich, eugen  1893                                           no_title\n1   ehrlich, eugen  1906                            die freie rechtsfindung\n2   ehrlich, eugen  1913                                           no_title\n3   ehrlich, eugen  1914         professor ehrlich's seminary of living law\n4   ehrlich, eugen  1916         montesquieu and sociological jurisprudence\n5   ehrlich, eugen  1916                     das recht und die gesellschaft\n6   ehrlich, eugen  1917  judicial freedom of decision: its principles a...\n7   ehrlich, eugen  1921  judicial freedom of decision: principles and o...\n8   ehrlich, eugen  1922                               the sociology of law\n9   ehrlich, eugen  1929                                           no_title\n10  ehrlich, eugen  1936     fundamental principles of the sociology of law\n11  ehrlich, eugen  1936                                           no_title\n12  ehrlich, eugen  1962                            study of the living law\n13  ehrlich, eugen  1962                                           no_title\n14  ehrlich, eugen  1967                                           no_title\n15  ehrlich, eugen  1972                                           no_title\n16  ehrlich, eugen  1973                                           no_title\n17  ehrlich, eugen  1989                                           no_title\n18  ehrlich, eugen  1989              grundlegung der soziologie des rechts\n19  ehrlich, eugen  1992                                       entgegnungen\n20  ehrlich, eugen  2001                                           no_title\n21  ehrlich, eugen  2002                                           no_title\n22  ehrlich, eugen  2009                                           no_title",
      "text/html": "<div>\n<style scoped>\n    .dataframe tbody tr th:only-of-type {\n        vertical-align: middle;\n    }\n\n    .dataframe tbody tr th {\n        vertical-align: top;\n    }\n\n    .dataframe thead th {\n        text-align: right;\n    }\n</style>\n<table border=\"1\" class=\"dataframe\">\n  <thead>\n    <tr style=\"text-align: right;\">\n      <th></th>\n      <th>author</th>\n      <th>year</th>\n      <th>title</th>\n    </tr>\n  </thead>\n  <tbody>\n    <tr>\n      <th>0</th>\n      <td>ehrlich, eugen</td>\n      <td>1893</td>\n      <td>no_title</td>\n    </tr>\n    <tr>\n      <th>1</th>\n      <td>ehrlich, eugen</td>\n      <td>1906</td>\n      <td>die freie rechtsfindung</td>\n    </tr>\n    <tr>\n      <th>2</th>\n      <td>ehrlich, eugen</td>\n      <td>1913</td>\n      <td>no_title</td>\n    </tr>\n    <tr>\n      <th>3</th>\n      <td>ehrlich, eugen</td>\n      <td>1914</td>\n      <td>professor ehrlich's seminary of living law</td>\n    </tr>\n    <tr>\n      <th>4</th>\n      <td>ehrlich, eugen</td>\n      <td>1916</td>\n      <td>montesquieu and sociological jurisprudence</td>\n    </tr>\n    <tr>\n      <th>5</th>\n      <td>ehrlich, eugen</td>\n      <td>1916</td>\n      <td>das recht und die gesellschaft</td>\n    </tr>\n    <tr>\n      <th>6</th>\n      <td>ehrlich, eugen</td>\n      <td>1917</td>\n      <td>judicial freedom of decision: its principles a...</td>\n    </tr>\n    <tr>\n      <th>7</th>\n      <td>ehrlich, eugen</td>\n      <td>1921</td>\n      <td>judicial freedom of decision: principles and o...</td>\n    </tr>\n    <tr>\n      <th>8</th>\n      <td>ehrlich, eugen</td>\n      <td>1922</td>\n      <td>the sociology of law</td>\n    </tr>\n    <tr>\n      <th>9</th>\n      <td>ehrlich, eugen</td>\n      <td>1929</td>\n      <td>no_title</td>\n    </tr>\n    <tr>\n      <th>10</th>\n      <td>ehrlich, eugen</td>\n      <td>1936</td>\n      <td>fundamental principles of the sociology of law</td>\n    </tr>\n    <tr>\n      <th>11</th>\n      <td>ehrlich, eugen</td>\n      <td>1936</td>\n      <td>no_title</td>\n    </tr>\n    <tr>\n      <th>12</th>\n      <td>ehrlich, eugen</td>\n      <td>1962</td>\n      <td>study of the living law</td>\n    </tr>\n    <tr>\n      <th>13</th>\n      <td>ehrlich, eugen</td>\n      <td>1962</td>\n      <td>no_title</td>\n    </tr>\n    <tr>\n      <th>14</th>\n      <td>ehrlich, eugen</td>\n      <td>1967</td>\n      <td>no_title</td>\n    </tr>\n    <tr>\n      <th>15</th>\n      <td>ehrlich, eugen</td>\n      <td>1972</td>\n      <td>no_title</td>\n    </tr>\n    <tr>\n      <th>16</th>\n      <td>ehrlich, eugen</td>\n      <td>1973</td>\n      <td>no_title</td>\n    </tr>\n    <tr>\n      <th>17</th>\n      <td>ehrlich, eugen</td>\n      <td>1989</td>\n      <td>no_title</td>\n    </tr>\n    <tr>\n      <th>18</th>\n      <td>ehrlich, eugen</td>\n      <td>1989</td>\n      <td>grundlegung der soziologie des rechts</td>\n    </tr>\n    <tr>\n      <th>19</th>\n      <td>ehrlich, eugen</td>\n      <td>1992</td>\n      <td>entgegnungen</td>\n    </tr>\n    <tr>\n      <th>20</th>\n      <td>ehrlich, eugen</td>\n      <td>2001</td>\n      <td>no_title</td>\n    </tr>\n    <tr>\n      <th>21</th>\n      <td>ehrlich, eugen</td>\n      <td>2002</td>\n      <td>no_title</td>\n    </tr>\n    <tr>\n      <th>22</th>\n      <td>ehrlich, eugen</td>\n      <td>2009</td>\n      <td>no_title</td>\n    </tr>\n  </tbody>\n</table>\n</div>"
     },
     "execution_count": 4,
     "metadata": {},
     "output_type": "execute_result"
    }
   ],
   "source": [
    "cypher = \"\"\"\n",
    "use `ehrlich-wos`\n",
    "match (a1:Author)-[r1:CREATOR_OF]->(w1:Work)<-[r2:CITES]-(w2:Work)<-[r3:CREATOR_OF]-(a2:Author)\n",
    "where a1.display_name = \"ehrlich, eugen\"\n",
    "return distinct a1.display_name as author, w1.year as year, w1.title as title order by w1.year\n",
    "\"\"\"\n",
    "graph.run(cypher).to_data_frame()"
   ]
  },
  {
   "cell_type": "markdown",
   "metadata": {},
   "source": [
    "### Citing works"
   ]
  },
  {
   "cell_type": "code",
   "execution_count": 5,
   "metadata": {},
   "outputs": [
    {
     "data": {
      "text/plain": "                      author  year  \\\n0               tamanaha, bz  2011   \n1          krieger, linda h.  2011   \n2           wilder, colin f.  2012   \n3        trajkovic, marko s.  2012   \n4           kuenzler, adrian  2012   \n5         tamanaha, brian z.  2013   \n6        martin, kimberly h.  2013   \n7              exner, gudrun  2013   \n8            maurer, andreas  2013   \n9            zumbansen, peer  2013   \n10        humfress, caroline  2013   \n11    lakhani, sarah morando  2014   \n12        timmermans, stefan  2014   \n13          antonov, mikhail  2015   \n14       gilbert, michael d.  2015   \n15            croce, mariano  2017   \n16             ubink, janine  2017   \n17         dagbanja, dominic  2018   \n18         sullivan, sean p.  2019   \n19            seidel, katrin  2019   \n20      korycka-zirk, milena  2020   \n21   gruber, malte-christian  2020   \n22  fischer-lescano, andreas  2020   \n23            doyle, matthew  2021   \n24   fillafer, franz leander  2022   \n\n                                                title  \n0   a vision of social-legal change: rescuing ehrl...  \n1   when organizations rule: judicial deference to...  \n2   teaching old dogs new tricks: four motifs of l...  \n3                    the realistic concept of the law  \n4   judicial legitimacy and the role of courts: ex...  \n5   law's history: american legal thought and the ...  \n6   social organization, collective sentiment, and...  \n7   the \"soziologische gesellschaft in wien\" [soci...  \n8   the concept of participation in the making of ...  \n9   law and legal pluralism: hybridity in transnat...  \n10  thinking through legal pluralism: 'forum shopp...  \n11  from problems of living to problems of law: th...  \n12  biopolitical citizenship in the immigration ad...  \n13  the realist and rhetorical dimensions of the p...  \n14                                    insincere rules  \n15  the enemy as the unthinkable: a concretist rea...  \n16  courting custom: regulating access to justice ...  \n17  legal pluralism? indigenous rights as legal co...  \n18                                 insincere evidence  \n19  constitutional recognition of islamic family l...  \n20  wieslaw lang's legal thought - between sociolo...  \n21                              why non-human rights?  \n22  nature as a legal person: proxy constellations...  \n23  the case of piruani: contested justice, legal ...  \n24  imperial diversity, fractured sovereignty, and...  ",
      "text/html": "<div>\n<style scoped>\n    .dataframe tbody tr th:only-of-type {\n        vertical-align: middle;\n    }\n\n    .dataframe tbody tr th {\n        vertical-align: top;\n    }\n\n    .dataframe thead th {\n        text-align: right;\n    }\n</style>\n<table border=\"1\" class=\"dataframe\">\n  <thead>\n    <tr style=\"text-align: right;\">\n      <th></th>\n      <th>author</th>\n      <th>year</th>\n      <th>title</th>\n    </tr>\n  </thead>\n  <tbody>\n    <tr>\n      <th>0</th>\n      <td>tamanaha, bz</td>\n      <td>2011</td>\n      <td>a vision of social-legal change: rescuing ehrl...</td>\n    </tr>\n    <tr>\n      <th>1</th>\n      <td>krieger, linda h.</td>\n      <td>2011</td>\n      <td>when organizations rule: judicial deference to...</td>\n    </tr>\n    <tr>\n      <th>2</th>\n      <td>wilder, colin f.</td>\n      <td>2012</td>\n      <td>teaching old dogs new tricks: four motifs of l...</td>\n    </tr>\n    <tr>\n      <th>3</th>\n      <td>trajkovic, marko s.</td>\n      <td>2012</td>\n      <td>the realistic concept of the law</td>\n    </tr>\n    <tr>\n      <th>4</th>\n      <td>kuenzler, adrian</td>\n      <td>2012</td>\n      <td>judicial legitimacy and the role of courts: ex...</td>\n    </tr>\n    <tr>\n      <th>5</th>\n      <td>tamanaha, brian z.</td>\n      <td>2013</td>\n      <td>law's history: american legal thought and the ...</td>\n    </tr>\n    <tr>\n      <th>6</th>\n      <td>martin, kimberly h.</td>\n      <td>2013</td>\n      <td>social organization, collective sentiment, and...</td>\n    </tr>\n    <tr>\n      <th>7</th>\n      <td>exner, gudrun</td>\n      <td>2013</td>\n      <td>the \"soziologische gesellschaft in wien\" [soci...</td>\n    </tr>\n    <tr>\n      <th>8</th>\n      <td>maurer, andreas</td>\n      <td>2013</td>\n      <td>the concept of participation in the making of ...</td>\n    </tr>\n    <tr>\n      <th>9</th>\n      <td>zumbansen, peer</td>\n      <td>2013</td>\n      <td>law and legal pluralism: hybridity in transnat...</td>\n    </tr>\n    <tr>\n      <th>10</th>\n      <td>humfress, caroline</td>\n      <td>2013</td>\n      <td>thinking through legal pluralism: 'forum shopp...</td>\n    </tr>\n    <tr>\n      <th>11</th>\n      <td>lakhani, sarah morando</td>\n      <td>2014</td>\n      <td>from problems of living to problems of law: th...</td>\n    </tr>\n    <tr>\n      <th>12</th>\n      <td>timmermans, stefan</td>\n      <td>2014</td>\n      <td>biopolitical citizenship in the immigration ad...</td>\n    </tr>\n    <tr>\n      <th>13</th>\n      <td>antonov, mikhail</td>\n      <td>2015</td>\n      <td>the realist and rhetorical dimensions of the p...</td>\n    </tr>\n    <tr>\n      <th>14</th>\n      <td>gilbert, michael d.</td>\n      <td>2015</td>\n      <td>insincere rules</td>\n    </tr>\n    <tr>\n      <th>15</th>\n      <td>croce, mariano</td>\n      <td>2017</td>\n      <td>the enemy as the unthinkable: a concretist rea...</td>\n    </tr>\n    <tr>\n      <th>16</th>\n      <td>ubink, janine</td>\n      <td>2017</td>\n      <td>courting custom: regulating access to justice ...</td>\n    </tr>\n    <tr>\n      <th>17</th>\n      <td>dagbanja, dominic</td>\n      <td>2018</td>\n      <td>legal pluralism? indigenous rights as legal co...</td>\n    </tr>\n    <tr>\n      <th>18</th>\n      <td>sullivan, sean p.</td>\n      <td>2019</td>\n      <td>insincere evidence</td>\n    </tr>\n    <tr>\n      <th>19</th>\n      <td>seidel, katrin</td>\n      <td>2019</td>\n      <td>constitutional recognition of islamic family l...</td>\n    </tr>\n    <tr>\n      <th>20</th>\n      <td>korycka-zirk, milena</td>\n      <td>2020</td>\n      <td>wieslaw lang's legal thought - between sociolo...</td>\n    </tr>\n    <tr>\n      <th>21</th>\n      <td>gruber, malte-christian</td>\n      <td>2020</td>\n      <td>why non-human rights?</td>\n    </tr>\n    <tr>\n      <th>22</th>\n      <td>fischer-lescano, andreas</td>\n      <td>2020</td>\n      <td>nature as a legal person: proxy constellations...</td>\n    </tr>\n    <tr>\n      <th>23</th>\n      <td>doyle, matthew</td>\n      <td>2021</td>\n      <td>the case of piruani: contested justice, legal ...</td>\n    </tr>\n    <tr>\n      <th>24</th>\n      <td>fillafer, franz leander</td>\n      <td>2022</td>\n      <td>imperial diversity, fractured sovereignty, and...</td>\n    </tr>\n  </tbody>\n</table>\n</div>"
     },
     "execution_count": 5,
     "metadata": {},
     "output_type": "execute_result"
    }
   ],
   "source": [
    "cypher = \"\"\"\n",
    "use `ehrlich-wos`\n",
    "MATCH (a1:Author)-[:CREATOR_OF]->(w1:Work)<-[:CITES]-(w2:Work)<-[:CREATOR_OF]-(a2:Author)\n",
    "WHERE a1.display_name = \"ehrlich, eugen\"\n",
    "WITH w2, COLLECT(a2)[0] AS first_author\n",
    "RETURN first_author.display_name AS author, w2.year AS year, w2.title AS title\n",
    "ORDER BY w2.year\n",
    "\"\"\"\n",
    "graph.run(cypher).to_data_frame()"
   ]
  },
  {
   "cell_type": "markdown",
   "metadata": {},
   "source": [
    "## OpenAlex\n",
    "\n",
    "openalex.org -> neo4j\n",
    "\n",
    "### Overview"
   ]
  },
  {
   "cell_type": "code",
   "execution_count": 6,
   "metadata": {},
   "outputs": [
    {
     "data": {
      "text/plain": "[{'works_cited': 18,\n  'num_citations': 402,\n  'citing_works': 355,\n  'citing_authors': 394}]"
     },
     "execution_count": 6,
     "metadata": {},
     "output_type": "execute_result"
    }
   ],
   "source": [
    "cypher = \"\"\"\n",
    "use `ehrlich-openalex`\n",
    "match (a1:Author)-[r1:CREATOR_OF]->(w1:Work)<-[r2:CITES]-(w2:Work)<-[r3:CREATOR_OF]-(a2:Author)\n",
    "where a1.display_name = \"ehrlich, eugen\"\n",
    "return count(distinct w1) as works_cited,\n",
    "    count(distinct r2) as num_citations,\n",
    "    count(distinct w2) as citing_works,\n",
    "    count(distinct a2) as citing_authors\n",
    "\"\"\"\n",
    "graph.run(cypher).data()"
   ]
  },
  {
   "cell_type": "markdown",
   "metadata": {},
   "source": [
    "### Cited works (all years)"
   ]
  },
  {
   "cell_type": "code",
   "execution_count": 15,
   "metadata": {},
   "outputs": [
    {
     "data": {
      "text/plain": "            author  year                                              title  \\\n0   ehrlich, eugen  1989             grundlegung der soziologie des rechts.   \n1   ehrlich, eugen  1938     fundamental principles of the sociology of law   \n2   ehrlich, eugen  1922                               the sociology of law   \n3   ehrlich, eugen  1937     fundamental principles of the sociology of law   \n4   ehrlich, eugen  1916         montesquieu and sociological jurisprudence   \n5   ehrlich, eugen  1986                          gesetz und lebendes recht   \n6   ehrlich, eugen  1967                                    recht und leben   \n7   ehrlich, eugen  1992  hans kelsen und die rechtssoziologie : auseina...   \n8   ehrlich, eugen  1913                              soziologie des rechts   \n9   ehrlich, eugen  2003  rechtssoziologie und rechtswissenschaft : eine...   \n10  ehrlich, eugen  1925                              die juristische logik   \n11  ehrlich, eugen  1937    fundamental principles of the sociology of law.   \n12  ehrlich, eugen  1967  recht und leben : gesammelte schriften zur rec...   \n13  ehrlich, eugen  1916  die aufgaben der sozialpolitik im österreichis...   \n14  ehrlich, eugen  1986  gesetz und lebendes recht : vermischte kleiner...   \n15  ehrlich, eugen  1893              die stillschweigende willenserklärung   \n\n                                container  citations  \n0   american journal of international law        145  \n1        university of chicago law review        138  \n2                      harvard law review        118  \n3                        routledge ebooks         45  \n4                      harvard law review         39  \n5                duncker & humblot ebooks         13  \n6                duncker & humblot ebooks         10  \n7                  scientia verlag ebooks          5  \n8                             veit ebooks          4  \n9                            nomos ebooks          3  \n10                     j.c.b. mohr ebooks          3  \n11           american sociological review          2  \n12               duncker & humblot ebooks          1  \n13               duncker & humblot ebooks          1  \n14               duncker & humblot ebooks          1  \n15                      c. heymann ebooks          1  ",
      "text/html": "<div>\n<style scoped>\n    .dataframe tbody tr th:only-of-type {\n        vertical-align: middle;\n    }\n\n    .dataframe tbody tr th {\n        vertical-align: top;\n    }\n\n    .dataframe thead th {\n        text-align: right;\n    }\n</style>\n<table border=\"1\" class=\"dataframe\">\n  <thead>\n    <tr style=\"text-align: right;\">\n      <th></th>\n      <th>author</th>\n      <th>year</th>\n      <th>title</th>\n      <th>container</th>\n      <th>citations</th>\n    </tr>\n  </thead>\n  <tbody>\n    <tr>\n      <th>0</th>\n      <td>ehrlich, eugen</td>\n      <td>1989</td>\n      <td>grundlegung der soziologie des rechts.</td>\n      <td>american journal of international law</td>\n      <td>145</td>\n    </tr>\n    <tr>\n      <th>1</th>\n      <td>ehrlich, eugen</td>\n      <td>1938</td>\n      <td>fundamental principles of the sociology of law</td>\n      <td>university of chicago law review</td>\n      <td>138</td>\n    </tr>\n    <tr>\n      <th>2</th>\n      <td>ehrlich, eugen</td>\n      <td>1922</td>\n      <td>the sociology of law</td>\n      <td>harvard law review</td>\n      <td>118</td>\n    </tr>\n    <tr>\n      <th>3</th>\n      <td>ehrlich, eugen</td>\n      <td>1937</td>\n      <td>fundamental principles of the sociology of law</td>\n      <td>routledge ebooks</td>\n      <td>45</td>\n    </tr>\n    <tr>\n      <th>4</th>\n      <td>ehrlich, eugen</td>\n      <td>1916</td>\n      <td>montesquieu and sociological jurisprudence</td>\n      <td>harvard law review</td>\n      <td>39</td>\n    </tr>\n    <tr>\n      <th>5</th>\n      <td>ehrlich, eugen</td>\n      <td>1986</td>\n      <td>gesetz und lebendes recht</td>\n      <td>duncker &amp; humblot ebooks</td>\n      <td>13</td>\n    </tr>\n    <tr>\n      <th>6</th>\n      <td>ehrlich, eugen</td>\n      <td>1967</td>\n      <td>recht und leben</td>\n      <td>duncker &amp; humblot ebooks</td>\n      <td>10</td>\n    </tr>\n    <tr>\n      <th>7</th>\n      <td>ehrlich, eugen</td>\n      <td>1992</td>\n      <td>hans kelsen und die rechtssoziologie : auseina...</td>\n      <td>scientia verlag ebooks</td>\n      <td>5</td>\n    </tr>\n    <tr>\n      <th>8</th>\n      <td>ehrlich, eugen</td>\n      <td>1913</td>\n      <td>soziologie des rechts</td>\n      <td>veit ebooks</td>\n      <td>4</td>\n    </tr>\n    <tr>\n      <th>9</th>\n      <td>ehrlich, eugen</td>\n      <td>2003</td>\n      <td>rechtssoziologie und rechtswissenschaft : eine...</td>\n      <td>nomos ebooks</td>\n      <td>3</td>\n    </tr>\n    <tr>\n      <th>10</th>\n      <td>ehrlich, eugen</td>\n      <td>1925</td>\n      <td>die juristische logik</td>\n      <td>j.c.b. mohr ebooks</td>\n      <td>3</td>\n    </tr>\n    <tr>\n      <th>11</th>\n      <td>ehrlich, eugen</td>\n      <td>1937</td>\n      <td>fundamental principles of the sociology of law.</td>\n      <td>american sociological review</td>\n      <td>2</td>\n    </tr>\n    <tr>\n      <th>12</th>\n      <td>ehrlich, eugen</td>\n      <td>1967</td>\n      <td>recht und leben : gesammelte schriften zur rec...</td>\n      <td>duncker &amp; humblot ebooks</td>\n      <td>1</td>\n    </tr>\n    <tr>\n      <th>13</th>\n      <td>ehrlich, eugen</td>\n      <td>1916</td>\n      <td>die aufgaben der sozialpolitik im österreichis...</td>\n      <td>duncker &amp; humblot ebooks</td>\n      <td>1</td>\n    </tr>\n    <tr>\n      <th>14</th>\n      <td>ehrlich, eugen</td>\n      <td>1986</td>\n      <td>gesetz und lebendes recht : vermischte kleiner...</td>\n      <td>duncker &amp; humblot ebooks</td>\n      <td>1</td>\n    </tr>\n    <tr>\n      <th>15</th>\n      <td>ehrlich, eugen</td>\n      <td>1893</td>\n      <td>die stillschweigende willenserklärung</td>\n      <td>c. heymann ebooks</td>\n      <td>1</td>\n    </tr>\n  </tbody>\n</table>\n</div>"
     },
     "execution_count": 15,
     "metadata": {},
     "output_type": "execute_result"
    }
   ],
   "source": [
    "cypher = \"\"\"\n",
    "use `ehrlich-openalex`\n",
    "match (a1:Author)-[r1:CREATOR_OF]->(w1:Work)<-[r2:CITES]-(w2:Work)<-[r3:CREATOR_OF]-(a2:Author)\n",
    "match (w1)-[r4:PUBLISHED_IN]->(v1:Venue)\n",
    "where a1.display_name = \"ehrlich, eugen\"\n",
    "return distinct\n",
    "    a1.display_name as author,\n",
    "    w1.year as year,\n",
    "    w1.title as title,\n",
    "    v1.name as container,\n",
    "    count(r2) as citations\n",
    "order by citations desc\n",
    "\"\"\"\n",
    "graph.run(cypher).to_data_frame()"
   ]
  },
  {
   "cell_type": "markdown",
   "source": [
    "### Cited works (1960-1989)"
   ],
   "metadata": {
    "collapsed": false
   }
  },
  {
   "cell_type": "code",
   "execution_count": 16,
   "outputs": [
    {
     "data": {
      "text/plain": "           author  year                                           title  \\\n0  ehrlich, eugen  1922                            the sociology of law   \n1  ehrlich, eugen  1938  fundamental principles of the sociology of law   \n2  ehrlich, eugen  1989          grundlegung der soziologie des rechts.   \n\n   citations  \n0         20  \n1         16  \n2          6  ",
      "text/html": "<div>\n<style scoped>\n    .dataframe tbody tr th:only-of-type {\n        vertical-align: middle;\n    }\n\n    .dataframe tbody tr th {\n        vertical-align: top;\n    }\n\n    .dataframe thead th {\n        text-align: right;\n    }\n</style>\n<table border=\"1\" class=\"dataframe\">\n  <thead>\n    <tr style=\"text-align: right;\">\n      <th></th>\n      <th>author</th>\n      <th>year</th>\n      <th>title</th>\n      <th>citations</th>\n    </tr>\n  </thead>\n  <tbody>\n    <tr>\n      <th>0</th>\n      <td>ehrlich, eugen</td>\n      <td>1922</td>\n      <td>the sociology of law</td>\n      <td>20</td>\n    </tr>\n    <tr>\n      <th>1</th>\n      <td>ehrlich, eugen</td>\n      <td>1938</td>\n      <td>fundamental principles of the sociology of law</td>\n      <td>16</td>\n    </tr>\n    <tr>\n      <th>2</th>\n      <td>ehrlich, eugen</td>\n      <td>1989</td>\n      <td>grundlegung der soziologie des rechts.</td>\n      <td>6</td>\n    </tr>\n  </tbody>\n</table>\n</div>"
     },
     "execution_count": 16,
     "metadata": {},
     "output_type": "execute_result"
    }
   ],
   "source": [
    "cypher = \"\"\"\n",
    "use `ehrlich-openalex`\n",
    "match (a1:Author)-[r1:CREATOR_OF]->(w1:Work)<-[r2:CITES]-(w2:Work)<-[r3:CREATOR_OF]-(a2:Author)\n",
    "where a1.display_name = \"ehrlich, eugen\" and w2.year >= 1960 and w2.year <= 1990\n",
    "return distinct\n",
    "    a1.display_name as author,\n",
    "    w1.year as year,\n",
    "    w1.title as title,\n",
    "    count(r2) as citations\n",
    "order by citations desc\n",
    "\"\"\"\n",
    "graph.run(cypher).to_data_frame()"
   ],
   "metadata": {
    "collapsed": false
   }
  },
  {
   "cell_type": "markdown",
   "metadata": {},
   "source": [
    "### Citing works (all years)\n"
   ]
  },
  {
   "cell_type": "code",
   "execution_count": 8,
   "metadata": {},
   "outputs": [
    {
     "data": {
      "text/plain": "                    author  year  \\\n0        mannheim, hermann  1925   \n1             otaka, tomoo  1932   \n2         krader, lawrence  1960   \n3         falk, richard a.  1961   \n4                chiba, m.  1962   \n..                     ...   ...   \n397         geslin, albane  2022   \n398          rodi, michael  2022   \n399       scheiwe, kirsten  2022   \n400  botero-bernal, andrés  2022   \n401      ojiako, udechukwu  2023   \n\n                                                 title  \\\n0    die zwecke der rechtsmittel, insbesondere der ...   \n1           die innere struktur des sozialen verbandes   \n2    the transition from serf to peasant in eastern...   \n3    the relations of law to culture, power, and ju...   \n4                                       right and duty   \n..                                                 ...   \n397  dépasser les frontières disciplinaires dans la...   \n398                    theory of state decision-making   \n399            familie, gesellschaft und familienrecht   \n400  el derecho social y la comunicación de ideas j...   \n401  the finality principle in arbitration: a theor...   \n\n                                         cited_work  \n0            grundlegung der soziologie des rechts.  \n1            grundlegung der soziologie des rechts.  \n2    fundamental principles of the sociology of law  \n3    fundamental principles of the sociology of law  \n4            grundlegung der soziologie des rechts.  \n..                                              ...  \n397  fundamental principles of the sociology of law  \n398          grundlegung der soziologie des rechts.  \n399          grundlegung der soziologie des rechts.  \n400  fundamental principles of the sociology of law  \n401  fundamental principles of the sociology of law  \n\n[402 rows x 4 columns]",
      "text/html": "<div>\n<style scoped>\n    .dataframe tbody tr th:only-of-type {\n        vertical-align: middle;\n    }\n\n    .dataframe tbody tr th {\n        vertical-align: top;\n    }\n\n    .dataframe thead th {\n        text-align: right;\n    }\n</style>\n<table border=\"1\" class=\"dataframe\">\n  <thead>\n    <tr style=\"text-align: right;\">\n      <th></th>\n      <th>author</th>\n      <th>year</th>\n      <th>title</th>\n      <th>cited_work</th>\n    </tr>\n  </thead>\n  <tbody>\n    <tr>\n      <th>0</th>\n      <td>mannheim, hermann</td>\n      <td>1925</td>\n      <td>die zwecke der rechtsmittel, insbesondere der ...</td>\n      <td>grundlegung der soziologie des rechts.</td>\n    </tr>\n    <tr>\n      <th>1</th>\n      <td>otaka, tomoo</td>\n      <td>1932</td>\n      <td>die innere struktur des sozialen verbandes</td>\n      <td>grundlegung der soziologie des rechts.</td>\n    </tr>\n    <tr>\n      <th>2</th>\n      <td>krader, lawrence</td>\n      <td>1960</td>\n      <td>the transition from serf to peasant in eastern...</td>\n      <td>fundamental principles of the sociology of law</td>\n    </tr>\n    <tr>\n      <th>3</th>\n      <td>falk, richard a.</td>\n      <td>1961</td>\n      <td>the relations of law to culture, power, and ju...</td>\n      <td>fundamental principles of the sociology of law</td>\n    </tr>\n    <tr>\n      <th>4</th>\n      <td>chiba, m.</td>\n      <td>1962</td>\n      <td>right and duty</td>\n      <td>grundlegung der soziologie des rechts.</td>\n    </tr>\n    <tr>\n      <th>...</th>\n      <td>...</td>\n      <td>...</td>\n      <td>...</td>\n      <td>...</td>\n    </tr>\n    <tr>\n      <th>397</th>\n      <td>geslin, albane</td>\n      <td>2022</td>\n      <td>dépasser les frontières disciplinaires dans la...</td>\n      <td>fundamental principles of the sociology of law</td>\n    </tr>\n    <tr>\n      <th>398</th>\n      <td>rodi, michael</td>\n      <td>2022</td>\n      <td>theory of state decision-making</td>\n      <td>grundlegung der soziologie des rechts.</td>\n    </tr>\n    <tr>\n      <th>399</th>\n      <td>scheiwe, kirsten</td>\n      <td>2022</td>\n      <td>familie, gesellschaft und familienrecht</td>\n      <td>grundlegung der soziologie des rechts.</td>\n    </tr>\n    <tr>\n      <th>400</th>\n      <td>botero-bernal, andrés</td>\n      <td>2022</td>\n      <td>el derecho social y la comunicación de ideas j...</td>\n      <td>fundamental principles of the sociology of law</td>\n    </tr>\n    <tr>\n      <th>401</th>\n      <td>ojiako, udechukwu</td>\n      <td>2023</td>\n      <td>the finality principle in arbitration: a theor...</td>\n      <td>fundamental principles of the sociology of law</td>\n    </tr>\n  </tbody>\n</table>\n<p>402 rows × 4 columns</p>\n</div>"
     },
     "execution_count": 8,
     "metadata": {},
     "output_type": "execute_result"
    }
   ],
   "source": [
    "cypher = \"\"\"\n",
    "use `ehrlich-openalex`\n",
    "MATCH (a1:Author)-[:CREATOR_OF]->(w1:Work)<-[:CITES]-(w2:Work)<-[:CREATOR_OF]-(a2:Author)\n",
    "WHERE a1.display_name = \"ehrlich, eugen\"\n",
    "WITH w1, w2, COLLECT(a2)[0] AS first_author\n",
    "RETURN\n",
    "    first_author.display_name AS author,\n",
    "    w2.year AS year,\n",
    "    w2.title AS title,\n",
    "    w1.title as cited_work\n",
    "ORDER BY w2.year\n",
    "\"\"\"\n",
    "graph.run(cypher).to_data_frame()"
   ]
  },
  {
   "cell_type": "markdown",
   "metadata": {},
   "source": [
    "### Citing works (1960-1989)"
   ]
  },
  {
   "cell_type": "code",
   "execution_count": 9,
   "metadata": {},
   "outputs": [
    {
     "data": {
      "text/plain": "                      author  year  \\\n0            kulcsár, kálmán  1968   \n1          hahm, pyong choon  1969   \n2      koch, klaus-friedrich  1969   \n3     rueschemeyer, dietrich  1970   \n4           silva, edward f.  1970   \n5           ritterband, paul  1970   \n6            gibbons, don l.  1971   \n7             osborne, harry  1972   \n8            bonn, robert l.  1972   \n9        pepinsky, harold b.  1973   \n10         kidder, robert l.  1975   \n11               hagan, john  1977   \n12           sheskin, arlene  1978   \n13          wilder, david a.  1978   \n14           sheskin, arlene  1978   \n15           maruta, takashi  1979   \n16          baldwin, john r.  1979   \n17          gruter, margaret  1979   \n18  de espinosa, emilio lamo  1980   \n19                reidel, d.  1982   \n20          greenberg, david  1983   \n21           short, james f.  1984   \n22           olsen, johan p.  1985   \n23             henry, stuart  1985   \n24            pue, w. wesley  1986   \n25          watkins, charles  1986   \n26     dickson, elizabeth l.  1987   \n27          kaye, timothy s.  1987   \n28           itzkowitz, gary  1988   \n29      rottleuthner, hubert  1989   \n\n                                                title  \\\n0          studies in the sociology of law in hungary   \n1                           religion and law in korea   \n2   law and anthropology: notes on interdisciplina...   \n3                         sociology of law in germany   \n4   states and the nation: state cohorts and amend...   \n5   law, policy, and behavior: educational exchang...   \n6        observations on the study of crime causation   \n7   the use of sociological data in the judicial p...   \n8   arbitration: an alternative system for handlin...   \n9   the people v. the principle of legality in the...   \n10  afterword: change and structure in dispute pro...   \n11  criminal justice in rural and urban communitie...   \n12  a critical review and assessment of the sociol...   \n13  homogeneity of jurors: the majority's influenc...   \n14  a critical review and assessment of the sociol...   \n15  on the latest disputation about methodology of...   \n16  trial by jury: some empirical evidence on cont...   \n17                      the origins of legal behavior   \n18  social and legal order in sociological functio...   \n19  the soviet critique of new left legal theory: ...   \n20        donald black's sociology of law: a critique   \n21  the social fabric at risk: toward the social t...   \n22           nyinstitusjonalismen og statsvitenskapen   \n23  community justice, capitalist society, and hum...   \n24  principles of administrative law, david p. jon...   \n25  the spatial analysis of legal systems: towards...   \n26  indians, law and land claims : problems and po...   \n27  natural law theory and legal positivism: two s...   \n28  social theory and law: the significance of stu...   \n29  a purified sociology of law: niklas luhmann on...   \n\n                                        cited_work  \n0                             the sociology of law  \n1   fundamental principles of the sociology of law  \n2   fundamental principles of the sociology of law  \n3           grundlegung der soziologie des rechts.  \n4                             the sociology of law  \n5   fundamental principles of the sociology of law  \n6                             the sociology of law  \n7   fundamental principles of the sociology of law  \n8   fundamental principles of the sociology of law  \n9                             the sociology of law  \n10  fundamental principles of the sociology of law  \n11                            the sociology of law  \n12                            the sociology of law  \n13                            the sociology of law  \n14  fundamental principles of the sociology of law  \n15                            the sociology of law  \n16                            the sociology of law  \n17  fundamental principles of the sociology of law  \n18  fundamental principles of the sociology of law  \n19                            the sociology of law  \n20                            the sociology of law  \n21                            the sociology of law  \n22                            the sociology of law  \n23  fundamental principles of the sociology of law  \n24                            the sociology of law  \n25  fundamental principles of the sociology of law  \n26                            the sociology of law  \n27                            the sociology of law  \n28  fundamental principles of the sociology of law  \n29          grundlegung der soziologie des rechts.  ",
      "text/html": "<div>\n<style scoped>\n    .dataframe tbody tr th:only-of-type {\n        vertical-align: middle;\n    }\n\n    .dataframe tbody tr th {\n        vertical-align: top;\n    }\n\n    .dataframe thead th {\n        text-align: right;\n    }\n</style>\n<table border=\"1\" class=\"dataframe\">\n  <thead>\n    <tr style=\"text-align: right;\">\n      <th></th>\n      <th>author</th>\n      <th>year</th>\n      <th>title</th>\n      <th>cited_work</th>\n    </tr>\n  </thead>\n  <tbody>\n    <tr>\n      <th>0</th>\n      <td>kulcsár, kálmán</td>\n      <td>1968</td>\n      <td>studies in the sociology of law in hungary</td>\n      <td>the sociology of law</td>\n    </tr>\n    <tr>\n      <th>1</th>\n      <td>hahm, pyong choon</td>\n      <td>1969</td>\n      <td>religion and law in korea</td>\n      <td>fundamental principles of the sociology of law</td>\n    </tr>\n    <tr>\n      <th>2</th>\n      <td>koch, klaus-friedrich</td>\n      <td>1969</td>\n      <td>law and anthropology: notes on interdisciplina...</td>\n      <td>fundamental principles of the sociology of law</td>\n    </tr>\n    <tr>\n      <th>3</th>\n      <td>rueschemeyer, dietrich</td>\n      <td>1970</td>\n      <td>sociology of law in germany</td>\n      <td>grundlegung der soziologie des rechts.</td>\n    </tr>\n    <tr>\n      <th>4</th>\n      <td>silva, edward f.</td>\n      <td>1970</td>\n      <td>states and the nation: state cohorts and amend...</td>\n      <td>the sociology of law</td>\n    </tr>\n    <tr>\n      <th>5</th>\n      <td>ritterband, paul</td>\n      <td>1970</td>\n      <td>law, policy, and behavior: educational exchang...</td>\n      <td>fundamental principles of the sociology of law</td>\n    </tr>\n    <tr>\n      <th>6</th>\n      <td>gibbons, don l.</td>\n      <td>1971</td>\n      <td>observations on the study of crime causation</td>\n      <td>the sociology of law</td>\n    </tr>\n    <tr>\n      <th>7</th>\n      <td>osborne, harry</td>\n      <td>1972</td>\n      <td>the use of sociological data in the judicial p...</td>\n      <td>fundamental principles of the sociology of law</td>\n    </tr>\n    <tr>\n      <th>8</th>\n      <td>bonn, robert l.</td>\n      <td>1972</td>\n      <td>arbitration: an alternative system for handlin...</td>\n      <td>fundamental principles of the sociology of law</td>\n    </tr>\n    <tr>\n      <th>9</th>\n      <td>pepinsky, harold b.</td>\n      <td>1973</td>\n      <td>the people v. the principle of legality in the...</td>\n      <td>the sociology of law</td>\n    </tr>\n    <tr>\n      <th>10</th>\n      <td>kidder, robert l.</td>\n      <td>1975</td>\n      <td>afterword: change and structure in dispute pro...</td>\n      <td>fundamental principles of the sociology of law</td>\n    </tr>\n    <tr>\n      <th>11</th>\n      <td>hagan, john</td>\n      <td>1977</td>\n      <td>criminal justice in rural and urban communitie...</td>\n      <td>the sociology of law</td>\n    </tr>\n    <tr>\n      <th>12</th>\n      <td>sheskin, arlene</td>\n      <td>1978</td>\n      <td>a critical review and assessment of the sociol...</td>\n      <td>the sociology of law</td>\n    </tr>\n    <tr>\n      <th>13</th>\n      <td>wilder, david a.</td>\n      <td>1978</td>\n      <td>homogeneity of jurors: the majority's influenc...</td>\n      <td>the sociology of law</td>\n    </tr>\n    <tr>\n      <th>14</th>\n      <td>sheskin, arlene</td>\n      <td>1978</td>\n      <td>a critical review and assessment of the sociol...</td>\n      <td>fundamental principles of the sociology of law</td>\n    </tr>\n    <tr>\n      <th>15</th>\n      <td>maruta, takashi</td>\n      <td>1979</td>\n      <td>on the latest disputation about methodology of...</td>\n      <td>the sociology of law</td>\n    </tr>\n    <tr>\n      <th>16</th>\n      <td>baldwin, john r.</td>\n      <td>1979</td>\n      <td>trial by jury: some empirical evidence on cont...</td>\n      <td>the sociology of law</td>\n    </tr>\n    <tr>\n      <th>17</th>\n      <td>gruter, margaret</td>\n      <td>1979</td>\n      <td>the origins of legal behavior</td>\n      <td>fundamental principles of the sociology of law</td>\n    </tr>\n    <tr>\n      <th>18</th>\n      <td>de espinosa, emilio lamo</td>\n      <td>1980</td>\n      <td>social and legal order in sociological functio...</td>\n      <td>fundamental principles of the sociology of law</td>\n    </tr>\n    <tr>\n      <th>19</th>\n      <td>reidel, d.</td>\n      <td>1982</td>\n      <td>the soviet critique of new left legal theory: ...</td>\n      <td>the sociology of law</td>\n    </tr>\n    <tr>\n      <th>20</th>\n      <td>greenberg, david</td>\n      <td>1983</td>\n      <td>donald black's sociology of law: a critique</td>\n      <td>the sociology of law</td>\n    </tr>\n    <tr>\n      <th>21</th>\n      <td>short, james f.</td>\n      <td>1984</td>\n      <td>the social fabric at risk: toward the social t...</td>\n      <td>the sociology of law</td>\n    </tr>\n    <tr>\n      <th>22</th>\n      <td>olsen, johan p.</td>\n      <td>1985</td>\n      <td>nyinstitusjonalismen og statsvitenskapen</td>\n      <td>the sociology of law</td>\n    </tr>\n    <tr>\n      <th>23</th>\n      <td>henry, stuart</td>\n      <td>1985</td>\n      <td>community justice, capitalist society, and hum...</td>\n      <td>fundamental principles of the sociology of law</td>\n    </tr>\n    <tr>\n      <th>24</th>\n      <td>pue, w. wesley</td>\n      <td>1986</td>\n      <td>principles of administrative law, david p. jon...</td>\n      <td>the sociology of law</td>\n    </tr>\n    <tr>\n      <th>25</th>\n      <td>watkins, charles</td>\n      <td>1986</td>\n      <td>the spatial analysis of legal systems: towards...</td>\n      <td>fundamental principles of the sociology of law</td>\n    </tr>\n    <tr>\n      <th>26</th>\n      <td>dickson, elizabeth l.</td>\n      <td>1987</td>\n      <td>indians, law and land claims : problems and po...</td>\n      <td>the sociology of law</td>\n    </tr>\n    <tr>\n      <th>27</th>\n      <td>kaye, timothy s.</td>\n      <td>1987</td>\n      <td>natural law theory and legal positivism: two s...</td>\n      <td>the sociology of law</td>\n    </tr>\n    <tr>\n      <th>28</th>\n      <td>itzkowitz, gary</td>\n      <td>1988</td>\n      <td>social theory and law: the significance of stu...</td>\n      <td>fundamental principles of the sociology of law</td>\n    </tr>\n    <tr>\n      <th>29</th>\n      <td>rottleuthner, hubert</td>\n      <td>1989</td>\n      <td>a purified sociology of law: niklas luhmann on...</td>\n      <td>grundlegung der soziologie des rechts.</td>\n    </tr>\n  </tbody>\n</table>\n</div>"
     },
     "execution_count": 9,
     "metadata": {},
     "output_type": "execute_result"
    }
   ],
   "source": [
    "cypher = \"\"\"\n",
    "use `ehrlich-openalex`\n",
    "MATCH (a1:Author)-[:CREATOR_OF]->(w1:Work)<-[:CITES]-(w2:Work)<-[:CREATOR_OF]-(a2:Author)\n",
    "WHERE a1.display_name = \"ehrlich, eugen\" and w2.year > 1967 and w2.year < 1990\n",
    "WITH w1, w2, COLLECT(a2)[0] AS first_author\n",
    "RETURN\n",
    "    first_author.display_name AS author,\n",
    "    w2.year AS year,\n",
    "    w2.title AS title,\n",
    "    w1.title as cited_work\n",
    "ORDER BY w2.year\n",
    "\"\"\"\n",
    "graph.run(cypher).to_data_frame()"
   ]
  },
  {
   "cell_type": "markdown",
   "metadata": {},
   "source": [
    "### Citing journals, all years"
   ]
  },
  {
   "cell_type": "code",
   "execution_count": 5,
   "outputs": [
    {
     "data": {
      "text/plain": "                                        container  \\\n0               cambridge university press ebooks   \n1               cambridge university press ebooks   \n2                 social science research network   \n3                                 springer ebooks   \n4                            law & society review   \n5                                 springer ebooks   \n6                            law & society review   \n7                 social science research network   \n8                                 springer ebooks   \n9                zeitschrift für rechtssoziologie   \n10                                   crop science   \n11                social science research network   \n12                         feminist legal studies   \n13                  american journal of sociology   \n14      vs verlag für sozialwissenschaften ebooks   \n15                            j.b. metzler ebooks   \n16                  encyclopedia of biostatistics   \n17                           the sociology of law   \n18                     american journal of botany   \n19                           law & society review   \n20                         social & legal studies   \n21              cambridge university press ebooks   \n22                           the sociology of law   \n23                     journal of law and society   \n24  international journal of the sociology of law   \n25                   american sociological review   \n26              cambridge university press ebooks   \n27        indiana journal of global legal studies   \n28                     journal of law and society   \n29                     journal of legal pluralism   \n\n                                        cited_work  num_citations  \n0           grundlegung der soziologie des rechts.             22  \n1       montesquieu and sociological jurisprudence             20  \n2   fundamental principles of the sociology of law             15  \n3           grundlegung der soziologie des rechts.             14  \n4                             the sociology of law              6  \n5                        gesetz und lebendes recht              5  \n6   fundamental principles of the sociology of law              5  \n7   fundamental principles of the sociology of law              4  \n8                                  recht und leben              3  \n9           grundlegung der soziologie des rechts.              3  \n10          grundlegung der soziologie des rechts.              3  \n11                            the sociology of law              3  \n12                            the sociology of law              3  \n13  fundamental principles of the sociology of law              2  \n14          grundlegung der soziologie des rechts.              2  \n15          grundlegung der soziologie des rechts.              2  \n16          grundlegung der soziologie des rechts.              2  \n17          grundlegung der soziologie des rechts.              2  \n18          grundlegung der soziologie des rechts.              2  \n19          grundlegung der soziologie des rechts.              2  \n20          grundlegung der soziologie des rechts.              2  \n21                            the sociology of law              2  \n22                            the sociology of law              2  \n23                            the sociology of law              2  \n24                            the sociology of law              2  \n25                            the sociology of law              2  \n26  fundamental principles of the sociology of law              2  \n27  fundamental principles of the sociology of law              2  \n28  fundamental principles of the sociology of law              2  \n29  fundamental principles of the sociology of law              2  ",
      "text/html": "<div>\n<style scoped>\n    .dataframe tbody tr th:only-of-type {\n        vertical-align: middle;\n    }\n\n    .dataframe tbody tr th {\n        vertical-align: top;\n    }\n\n    .dataframe thead th {\n        text-align: right;\n    }\n</style>\n<table border=\"1\" class=\"dataframe\">\n  <thead>\n    <tr style=\"text-align: right;\">\n      <th></th>\n      <th>container</th>\n      <th>cited_work</th>\n      <th>num_citations</th>\n    </tr>\n  </thead>\n  <tbody>\n    <tr>\n      <th>0</th>\n      <td>cambridge university press ebooks</td>\n      <td>grundlegung der soziologie des rechts.</td>\n      <td>22</td>\n    </tr>\n    <tr>\n      <th>1</th>\n      <td>cambridge university press ebooks</td>\n      <td>montesquieu and sociological jurisprudence</td>\n      <td>20</td>\n    </tr>\n    <tr>\n      <th>2</th>\n      <td>social science research network</td>\n      <td>fundamental principles of the sociology of law</td>\n      <td>15</td>\n    </tr>\n    <tr>\n      <th>3</th>\n      <td>springer ebooks</td>\n      <td>grundlegung der soziologie des rechts.</td>\n      <td>14</td>\n    </tr>\n    <tr>\n      <th>4</th>\n      <td>law &amp; society review</td>\n      <td>the sociology of law</td>\n      <td>6</td>\n    </tr>\n    <tr>\n      <th>5</th>\n      <td>springer ebooks</td>\n      <td>gesetz und lebendes recht</td>\n      <td>5</td>\n    </tr>\n    <tr>\n      <th>6</th>\n      <td>law &amp; society review</td>\n      <td>fundamental principles of the sociology of law</td>\n      <td>5</td>\n    </tr>\n    <tr>\n      <th>7</th>\n      <td>social science research network</td>\n      <td>fundamental principles of the sociology of law</td>\n      <td>4</td>\n    </tr>\n    <tr>\n      <th>8</th>\n      <td>springer ebooks</td>\n      <td>recht und leben</td>\n      <td>3</td>\n    </tr>\n    <tr>\n      <th>9</th>\n      <td>zeitschrift für rechtssoziologie</td>\n      <td>grundlegung der soziologie des rechts.</td>\n      <td>3</td>\n    </tr>\n    <tr>\n      <th>10</th>\n      <td>crop science</td>\n      <td>grundlegung der soziologie des rechts.</td>\n      <td>3</td>\n    </tr>\n    <tr>\n      <th>11</th>\n      <td>social science research network</td>\n      <td>the sociology of law</td>\n      <td>3</td>\n    </tr>\n    <tr>\n      <th>12</th>\n      <td>feminist legal studies</td>\n      <td>the sociology of law</td>\n      <td>3</td>\n    </tr>\n    <tr>\n      <th>13</th>\n      <td>american journal of sociology</td>\n      <td>fundamental principles of the sociology of law</td>\n      <td>2</td>\n    </tr>\n    <tr>\n      <th>14</th>\n      <td>vs verlag für sozialwissenschaften ebooks</td>\n      <td>grundlegung der soziologie des rechts.</td>\n      <td>2</td>\n    </tr>\n    <tr>\n      <th>15</th>\n      <td>j.b. metzler ebooks</td>\n      <td>grundlegung der soziologie des rechts.</td>\n      <td>2</td>\n    </tr>\n    <tr>\n      <th>16</th>\n      <td>encyclopedia of biostatistics</td>\n      <td>grundlegung der soziologie des rechts.</td>\n      <td>2</td>\n    </tr>\n    <tr>\n      <th>17</th>\n      <td>the sociology of law</td>\n      <td>grundlegung der soziologie des rechts.</td>\n      <td>2</td>\n    </tr>\n    <tr>\n      <th>18</th>\n      <td>american journal of botany</td>\n      <td>grundlegung der soziologie des rechts.</td>\n      <td>2</td>\n    </tr>\n    <tr>\n      <th>19</th>\n      <td>law &amp; society review</td>\n      <td>grundlegung der soziologie des rechts.</td>\n      <td>2</td>\n    </tr>\n    <tr>\n      <th>20</th>\n      <td>social &amp; legal studies</td>\n      <td>grundlegung der soziologie des rechts.</td>\n      <td>2</td>\n    </tr>\n    <tr>\n      <th>21</th>\n      <td>cambridge university press ebooks</td>\n      <td>the sociology of law</td>\n      <td>2</td>\n    </tr>\n    <tr>\n      <th>22</th>\n      <td>the sociology of law</td>\n      <td>the sociology of law</td>\n      <td>2</td>\n    </tr>\n    <tr>\n      <th>23</th>\n      <td>journal of law and society</td>\n      <td>the sociology of law</td>\n      <td>2</td>\n    </tr>\n    <tr>\n      <th>24</th>\n      <td>international journal of the sociology of law</td>\n      <td>the sociology of law</td>\n      <td>2</td>\n    </tr>\n    <tr>\n      <th>25</th>\n      <td>american sociological review</td>\n      <td>the sociology of law</td>\n      <td>2</td>\n    </tr>\n    <tr>\n      <th>26</th>\n      <td>cambridge university press ebooks</td>\n      <td>fundamental principles of the sociology of law</td>\n      <td>2</td>\n    </tr>\n    <tr>\n      <th>27</th>\n      <td>indiana journal of global legal studies</td>\n      <td>fundamental principles of the sociology of law</td>\n      <td>2</td>\n    </tr>\n    <tr>\n      <th>28</th>\n      <td>journal of law and society</td>\n      <td>fundamental principles of the sociology of law</td>\n      <td>2</td>\n    </tr>\n    <tr>\n      <th>29</th>\n      <td>journal of legal pluralism</td>\n      <td>fundamental principles of the sociology of law</td>\n      <td>2</td>\n    </tr>\n  </tbody>\n</table>\n</div>"
     },
     "execution_count": 4,
     "metadata": {},
     "output_type": "execute_result"
    },
    {
     "data": {
      "text/plain": "                                        container  \\\n0               cambridge university press ebooks   \n1               cambridge university press ebooks   \n2                 social science research network   \n3                                 springer ebooks   \n4                            law & society review   \n5                                 springer ebooks   \n6                            law & society review   \n7                 social science research network   \n8                                 springer ebooks   \n9                zeitschrift für rechtssoziologie   \n10                                   crop science   \n11                social science research network   \n12                         feminist legal studies   \n13                  american journal of sociology   \n14      vs verlag für sozialwissenschaften ebooks   \n15                            j.b. metzler ebooks   \n16                  encyclopedia of biostatistics   \n17                           the sociology of law   \n18                     american journal of botany   \n19                           law & society review   \n20                         social & legal studies   \n21              cambridge university press ebooks   \n22                           the sociology of law   \n23                     journal of law and society   \n24  international journal of the sociology of law   \n25                   american sociological review   \n26              cambridge university press ebooks   \n27        indiana journal of global legal studies   \n28                     journal of law and society   \n29                     journal of legal pluralism   \n\n                                        cited_work  num_citations  \n0           grundlegung der soziologie des rechts.             22  \n1       montesquieu and sociological jurisprudence             20  \n2   fundamental principles of the sociology of law             15  \n3           grundlegung der soziologie des rechts.             14  \n4                             the sociology of law              6  \n5                        gesetz und lebendes recht              5  \n6   fundamental principles of the sociology of law              5  \n7   fundamental principles of the sociology of law              4  \n8                                  recht und leben              3  \n9           grundlegung der soziologie des rechts.              3  \n10          grundlegung der soziologie des rechts.              3  \n11                            the sociology of law              3  \n12                            the sociology of law              3  \n13  fundamental principles of the sociology of law              2  \n14          grundlegung der soziologie des rechts.              2  \n15          grundlegung der soziologie des rechts.              2  \n16          grundlegung der soziologie des rechts.              2  \n17          grundlegung der soziologie des rechts.              2  \n18          grundlegung der soziologie des rechts.              2  \n19          grundlegung der soziologie des rechts.              2  \n20          grundlegung der soziologie des rechts.              2  \n21                            the sociology of law              2  \n22                            the sociology of law              2  \n23                            the sociology of law              2  \n24                            the sociology of law              2  \n25                            the sociology of law              2  \n26  fundamental principles of the sociology of law              2  \n27  fundamental principles of the sociology of law              2  \n28  fundamental principles of the sociology of law              2  \n29  fundamental principles of the sociology of law              2  ",
      "text/html": "<div>\n<style scoped>\n    .dataframe tbody tr th:only-of-type {\n        vertical-align: middle;\n    }\n\n    .dataframe tbody tr th {\n        vertical-align: top;\n    }\n\n    .dataframe thead th {\n        text-align: right;\n    }\n</style>\n<table border=\"1\" class=\"dataframe\">\n  <thead>\n    <tr style=\"text-align: right;\">\n      <th></th>\n      <th>container</th>\n      <th>cited_work</th>\n      <th>num_citations</th>\n    </tr>\n  </thead>\n  <tbody>\n    <tr>\n      <th>0</th>\n      <td>cambridge university press ebooks</td>\n      <td>grundlegung der soziologie des rechts.</td>\n      <td>22</td>\n    </tr>\n    <tr>\n      <th>1</th>\n      <td>cambridge university press ebooks</td>\n      <td>montesquieu and sociological jurisprudence</td>\n      <td>20</td>\n    </tr>\n    <tr>\n      <th>2</th>\n      <td>social science research network</td>\n      <td>fundamental principles of the sociology of law</td>\n      <td>15</td>\n    </tr>\n    <tr>\n      <th>3</th>\n      <td>springer ebooks</td>\n      <td>grundlegung der soziologie des rechts.</td>\n      <td>14</td>\n    </tr>\n    <tr>\n      <th>4</th>\n      <td>law &amp; society review</td>\n      <td>the sociology of law</td>\n      <td>6</td>\n    </tr>\n    <tr>\n      <th>5</th>\n      <td>springer ebooks</td>\n      <td>gesetz und lebendes recht</td>\n      <td>5</td>\n    </tr>\n    <tr>\n      <th>6</th>\n      <td>law &amp; society review</td>\n      <td>fundamental principles of the sociology of law</td>\n      <td>5</td>\n    </tr>\n    <tr>\n      <th>7</th>\n      <td>social science research network</td>\n      <td>fundamental principles of the sociology of law</td>\n      <td>4</td>\n    </tr>\n    <tr>\n      <th>8</th>\n      <td>springer ebooks</td>\n      <td>recht und leben</td>\n      <td>3</td>\n    </tr>\n    <tr>\n      <th>9</th>\n      <td>zeitschrift für rechtssoziologie</td>\n      <td>grundlegung der soziologie des rechts.</td>\n      <td>3</td>\n    </tr>\n    <tr>\n      <th>10</th>\n      <td>crop science</td>\n      <td>grundlegung der soziologie des rechts.</td>\n      <td>3</td>\n    </tr>\n    <tr>\n      <th>11</th>\n      <td>social science research network</td>\n      <td>the sociology of law</td>\n      <td>3</td>\n    </tr>\n    <tr>\n      <th>12</th>\n      <td>feminist legal studies</td>\n      <td>the sociology of law</td>\n      <td>3</td>\n    </tr>\n    <tr>\n      <th>13</th>\n      <td>american journal of sociology</td>\n      <td>fundamental principles of the sociology of law</td>\n      <td>2</td>\n    </tr>\n    <tr>\n      <th>14</th>\n      <td>vs verlag für sozialwissenschaften ebooks</td>\n      <td>grundlegung der soziologie des rechts.</td>\n      <td>2</td>\n    </tr>\n    <tr>\n      <th>15</th>\n      <td>j.b. metzler ebooks</td>\n      <td>grundlegung der soziologie des rechts.</td>\n      <td>2</td>\n    </tr>\n    <tr>\n      <th>16</th>\n      <td>encyclopedia of biostatistics</td>\n      <td>grundlegung der soziologie des rechts.</td>\n      <td>2</td>\n    </tr>\n    <tr>\n      <th>17</th>\n      <td>the sociology of law</td>\n      <td>grundlegung der soziologie des rechts.</td>\n      <td>2</td>\n    </tr>\n    <tr>\n      <th>18</th>\n      <td>american journal of botany</td>\n      <td>grundlegung der soziologie des rechts.</td>\n      <td>2</td>\n    </tr>\n    <tr>\n      <th>19</th>\n      <td>law &amp; society review</td>\n      <td>grundlegung der soziologie des rechts.</td>\n      <td>2</td>\n    </tr>\n    <tr>\n      <th>20</th>\n      <td>social &amp; legal studies</td>\n      <td>grundlegung der soziologie des rechts.</td>\n      <td>2</td>\n    </tr>\n    <tr>\n      <th>21</th>\n      <td>cambridge university press ebooks</td>\n      <td>the sociology of law</td>\n      <td>2</td>\n    </tr>\n    <tr>\n      <th>22</th>\n      <td>the sociology of law</td>\n      <td>the sociology of law</td>\n      <td>2</td>\n    </tr>\n    <tr>\n      <th>23</th>\n      <td>journal of law and society</td>\n      <td>the sociology of law</td>\n      <td>2</td>\n    </tr>\n    <tr>\n      <th>24</th>\n      <td>international journal of the sociology of law</td>\n      <td>the sociology of law</td>\n      <td>2</td>\n    </tr>\n    <tr>\n      <th>25</th>\n      <td>american sociological review</td>\n      <td>the sociology of law</td>\n      <td>2</td>\n    </tr>\n    <tr>\n      <th>26</th>\n      <td>cambridge university press ebooks</td>\n      <td>fundamental principles of the sociology of law</td>\n      <td>2</td>\n    </tr>\n    <tr>\n      <th>27</th>\n      <td>indiana journal of global legal studies</td>\n      <td>fundamental principles of the sociology of law</td>\n      <td>2</td>\n    </tr>\n    <tr>\n      <th>28</th>\n      <td>journal of law and society</td>\n      <td>fundamental principles of the sociology of law</td>\n      <td>2</td>\n    </tr>\n    <tr>\n      <th>29</th>\n      <td>journal of legal pluralism</td>\n      <td>fundamental principles of the sociology of law</td>\n      <td>2</td>\n    </tr>\n  </tbody>\n</table>\n</div>"
     },
     "execution_count": 5,
     "metadata": {},
     "output_type": "execute_result"
    }
   ],
   "source": [
    "query = \"\"\"\n",
    "use `ehrlich-openalex`\n",
    "MATCH (a1:Author)-[r1:CREATOR_OF]->(w1:Work)<-[r2:CITES]-(w2:Work)-[r3:PUBLISHED_IN]-(v1:Venue)\n",
    "WHERE a1.display_name = \"ehrlich, eugen\"\n",
    "with w1, v1, count(r2) as num_citations\n",
    "where num_citations > 1\n",
    "RETURN  v1.name AS container,\n",
    "        num_citations\n",
    "order by num_citations desc\n",
    "\"\"\"\n",
    "graph.run(query).to_data_frame()"
   ],
   "metadata": {
    "collapsed": false
   }
  },
  {
   "cell_type": "code",
   "execution_count": 2,
   "metadata": {},
   "outputs": [
    {
     "data": {
      "text/plain": "<IPython.lib.display.IFrame at 0x22105514b50>",
      "text/html": "\n        <iframe\n            width=\"100%\"\n            height=\"400\"\n            src=\"figure/graph-61e8b0b9-1453-4c58-a178-a7d8c91d1ad6.html\"\n            frameborder=\"0\"\n            allowfullscreen\n            \n        ></iframe>\n        "
     },
     "execution_count": 2,
     "metadata": {},
     "output_type": "execute_result"
    }
   ],
   "source": [
    "query = \"\"\"\n",
    "use `ehrlich-openalex`\n",
    "MATCH (a1:Author)-[r1:CREATOR_OF]->(w1:Work)<-[r2:CITES]-(w2:Work)-[r3:PUBLISHED_IN]-(v1:Venue)\n",
    "WHERE a1.display_name = \"ehrlich, eugen\"\n",
    "with w1, v1, count(r2) as num_citations\n",
    "where num_citations > 1\n",
    "RETURN  v1 AS source_node,\n",
    "        apoc.create.vRelationship(v1, 'CITATIONS', {value:num_citations}, w1) as rel,\n",
    "        w1 as target_node\n",
    "\"\"\"\n",
    "options = {\"Author\": \"display_name\",\n",
    "           \"Work\": \"display_name\",\n",
    "           \"Venue\": \"name\",\n",
    "           \"CITATIONS\":\"value\"}\n",
    "draw(graph, query, options, physics=True)"
   ]
  },
  {
   "cell_type": "markdown",
   "metadata": {},
   "source": [
    "### Citing journals, 1960-1989"
   ]
  },
  {
   "cell_type": "code",
   "execution_count": 11,
   "metadata": {},
   "outputs": [],
   "source": [
    "query = \"\"\"\n",
    "use `ehrlich-openalex`\n",
    "MATCH (a1:Author)-[r1:CREATOR_OF]->(w1:Work)<-[r2:CITES]-(w2:Work)-[r3:PUBLISHED_IN]-(v1:Venue)\n",
    "WHERE a1.display_name = \"ehrlich, eugen\" and w2.year > 1960 and w2.year < 1990\n",
    "with w1, v1, count(r2) as num_citations\n",
    "where num_citations > 1\n",
    "RETURN  v1 AS source_node,\n",
    "        apoc.create.vRelationship(v1, 'CITATIONS', {value:num_citations}, w1) as rel,\n",
    "        w1 as target_node\n",
    "\"\"\"\n",
    "options = {\"Author\": \"display_name\", \"Work\": \"display_name\", \"Venue\": \"name\", \"CITATIONS\":\"value\"}\n",
    "#draw(graph, query, options, physics=True)"
   ]
  },
  {
   "cell_type": "code",
   "execution_count": 11,
   "metadata": {},
   "outputs": [],
   "source": []
  }
 ],
 "metadata": {
  "kernelspec": {
   "display_name": "Python 3 (ipykernel)",
   "language": "python",
   "name": "python3"
  },
  "language_info": {
   "codemirror_mode": {
    "name": "ipython",
    "version": 3
   },
   "file_extension": ".py",
   "mimetype": "text/x-python",
   "name": "python",
   "nbconvert_exporter": "python",
   "pygments_lexer": "ipython3",
   "version": "3.9.7"
  }
 },
 "nbformat": 4,
 "nbformat_minor": 1
}
