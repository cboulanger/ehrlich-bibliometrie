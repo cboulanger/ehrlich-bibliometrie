{
 "cells": [
  {
   "cell_type": "code",
   "execution_count": null,
   "metadata": {
    "collapsed": true
   },
   "outputs": [],
   "source": [
    "!pip install bertopic"
   ]
  },
  {
   "cell_type": "code",
   "execution_count": null,
   "outputs": [],
   "source": [
    "import os\n",
    "from bertopic import BERTopic\n",
    "from tqdm import tqdm\n",
    "import pandas as pd\n",
    "from nltk.corpus import stopwords\n",
    "from dotenv import load_dotenv; load_dotenv()\n",
    "from scripts.occurrence_by_year import create_corpus\n",
    "import os, re\n",
    "regex = r'\\bEhrlichs?\\b'\n",
    "#corpus_dir = os.getenv('CORPUS_BASE_DIR') + '/FULLTEXTS/ZFRSOZ/zfrsoz-txt'\n",
    "#corpus_dir = os.getenv('CORPUS_BASE_DIR') + '/FULLTEXTS/JLS/jls-txt'\n",
    "corpus_dir = os.getenv('CORPUS_BASE_DIR') + \"/CORPORA/rsoz-lehrbuecher\""
   ],
   "metadata": {
    "collapsed": false
   }
  }
 ],
 "metadata": {
  "kernelspec": {
   "display_name": "Python 3",
   "language": "python",
   "name": "python3"
  },
  "language_info": {
   "codemirror_mode": {
    "name": "ipython",
    "version": 2
   },
   "file_extension": ".py",
   "mimetype": "text/x-python",
   "name": "python",
   "nbconvert_exporter": "python",
   "pygments_lexer": "ipython2",
   "version": "2.7.6"
  }
 },
 "nbformat": 4,
 "nbformat_minor": 0
}
